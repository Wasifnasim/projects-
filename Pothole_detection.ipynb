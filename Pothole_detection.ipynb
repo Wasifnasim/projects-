{
  "nbformat": 4,
  "nbformat_minor": 0,
  "metadata": {
    "colab": {
      "provenance": [],
      "gpuType": "T4",
      "authorship_tag": "ABX9TyMJOw/LDZoSLEsErumba9zF",
      "include_colab_link": true
    },
    "kernelspec": {
      "name": "python3",
      "display_name": "Python 3"
    },
    "language_info": {
      "name": "python"
    },
    "accelerator": "GPU"
  },
  "cells": [
    {
      "cell_type": "markdown",
      "metadata": {
        "id": "view-in-github",
        "colab_type": "text"
      },
      "source": [
        "<a href=\"https://colab.research.google.com/github/Wasifnasim/projects-/blob/main/Pothole_detection.ipynb\" target=\"_parent\"><img src=\"https://colab.research.google.com/assets/colab-badge.svg\" alt=\"Open In Colab\"/></a>"
      ]
    },
    {
      "cell_type": "code",
      "execution_count": null,
      "metadata": {
        "colab": {
          "base_uri": "https://localhost:8080/"
        },
        "id": "Fv8dsBmsrXLQ",
        "outputId": "c7542ed0-b888-4bec-de8b-1772a5560c3b"
      },
      "outputs": [
        {
          "output_type": "stream",
          "name": "stdout",
          "text": [
            "\u001b[?25l   \u001b[90m━━━━━━━━━━━━━━━━━━━━━━━━━━━━━━━━━━━━━━━━\u001b[0m \u001b[32m0.0/1.1 MB\u001b[0m \u001b[31m?\u001b[0m eta \u001b[36m-:--:--\u001b[0m\r\u001b[2K   \u001b[90m━━━━━━━━━━━━━━━━━━━━━━━━━━━━━━━━━━━━━━━━\u001b[0m \u001b[32m1.1/1.1 MB\u001b[0m \u001b[31m33.9 MB/s\u001b[0m eta \u001b[36m0:00:00\u001b[0m\n",
            "\u001b[?25h\u001b[?25l   \u001b[90m━━━━━━━━━━━━━━━━━━━━━━━━━━━━━━━━━━━━━━━━\u001b[0m \u001b[32m0.0/88.6 kB\u001b[0m \u001b[31m?\u001b[0m eta \u001b[36m-:--:--\u001b[0m\r\u001b[2K   \u001b[90m━━━━━━━━━━━━━━━━━━━━━━━━━━━━━━━━━━━━━━━━\u001b[0m \u001b[32m88.6/88.6 kB\u001b[0m \u001b[31m9.6 MB/s\u001b[0m eta \u001b[36m0:00:00\u001b[0m\n",
            "\u001b[2K   \u001b[90m━━━━━━━━━━━━━━━━━━━━━━━━━━━━━━━━━━━━━━━━\u001b[0m \u001b[32m66.8/66.8 kB\u001b[0m \u001b[31m7.0 MB/s\u001b[0m eta \u001b[36m0:00:00\u001b[0m\n",
            "\u001b[2K   \u001b[90m━━━━━━━━━━━━━━━━━━━━━━━━━━━━━━━━━━━━━━━━\u001b[0m \u001b[32m49.9/49.9 MB\u001b[0m \u001b[31m19.9 MB/s\u001b[0m eta \u001b[36m0:00:00\u001b[0m\n",
            "\u001b[2K   \u001b[90m━━━━━━━━━━━━━━━━━━━━━━━━━━━━━━━━━━━━━━━━\u001b[0m \u001b[32m1.4/1.4 MB\u001b[0m \u001b[31m69.0 MB/s\u001b[0m eta \u001b[36m0:00:00\u001b[0m\n",
            "\u001b[2K   \u001b[90m━━━━━━━━━━━━━━━━━━━━━━━━━━━━━━━━━━━━━━━━\u001b[0m \u001b[32m4.2/4.2 MB\u001b[0m \u001b[31m117.1 MB/s\u001b[0m eta \u001b[36m0:00:00\u001b[0m\n",
            "\u001b[?25hCreating new Ultralytics Settings v0.0.6 file ✅ \n",
            "View Ultralytics Settings with 'yolo settings' or at '/root/.config/Ultralytics/settings.json'\n",
            "Update Settings with 'yolo settings key=value', i.e. 'yolo settings runs_dir=path/to/dir'. For help see https://docs.ultralytics.com/quickstart/#ultralytics-settings.\n",
            "Torch CUDA available: True\n",
            "Ultralytics version: 8.3.184\n"
          ]
        }
      ],
      "source": [
        "!pip -q install ultralytics==8.* opencv-python roboflow fastapi uvicorn\n",
        "\n",
        "\n",
        "import torch, ultralytics, cv2, os, sys\n",
        "print('Torch CUDA available:', torch.cuda.is_available())\n",
        "print('Ultralytics version:', ultralytics.__version__)"
      ]
    },
    {
      "cell_type": "code",
      "source": [
        "!pip install roboflow\n",
        "\n",
        "from roboflow import Roboflow\n",
        "rf = Roboflow(api_key=\"AAplNv63SCyyYAn4RiGg\")\n",
        "project = rf.workspace(\"pothole-pgqso\").project(\"yolo-v8-project-jkmun\")\n",
        "version = project.version(1)\n",
        "dataset = version.download(\"yolov8\")\n"
      ],
      "metadata": {
        "colab": {
          "base_uri": "https://localhost:8080/"
        },
        "id": "fZFa49catGI9",
        "outputId": "71e9e0fa-1d3a-4473-abae-ca112f11c666"
      },
      "execution_count": null,
      "outputs": [
        {
          "output_type": "stream",
          "name": "stdout",
          "text": [
            "Requirement already satisfied: roboflow in /usr/local/lib/python3.12/dist-packages (1.2.6)\n",
            "Requirement already satisfied: certifi in /usr/local/lib/python3.12/dist-packages (from roboflow) (2025.8.3)\n",
            "Requirement already satisfied: idna==3.7 in /usr/local/lib/python3.12/dist-packages (from roboflow) (3.7)\n",
            "Requirement already satisfied: cycler in /usr/local/lib/python3.12/dist-packages (from roboflow) (0.12.1)\n",
            "Requirement already satisfied: kiwisolver>=1.3.1 in /usr/local/lib/python3.12/dist-packages (from roboflow) (1.4.9)\n",
            "Requirement already satisfied: matplotlib in /usr/local/lib/python3.12/dist-packages (from roboflow) (3.10.0)\n",
            "Requirement already satisfied: numpy>=1.18.5 in /usr/local/lib/python3.12/dist-packages (from roboflow) (2.0.2)\n",
            "Requirement already satisfied: opencv-python-headless==4.10.0.84 in /usr/local/lib/python3.12/dist-packages (from roboflow) (4.10.0.84)\n",
            "Requirement already satisfied: Pillow>=7.1.2 in /usr/local/lib/python3.12/dist-packages (from roboflow) (11.3.0)\n",
            "Requirement already satisfied: pi-heif<2 in /usr/local/lib/python3.12/dist-packages (from roboflow) (1.1.0)\n",
            "Requirement already satisfied: pillow-avif-plugin<2 in /usr/local/lib/python3.12/dist-packages (from roboflow) (1.5.2)\n",
            "Requirement already satisfied: python-dateutil in /usr/local/lib/python3.12/dist-packages (from roboflow) (2.9.0.post0)\n",
            "Requirement already satisfied: python-dotenv in /usr/local/lib/python3.12/dist-packages (from roboflow) (1.1.1)\n",
            "Requirement already satisfied: requests in /usr/local/lib/python3.12/dist-packages (from roboflow) (2.32.4)\n",
            "Requirement already satisfied: six in /usr/local/lib/python3.12/dist-packages (from roboflow) (1.17.0)\n",
            "Requirement already satisfied: urllib3>=1.26.6 in /usr/local/lib/python3.12/dist-packages (from roboflow) (2.5.0)\n",
            "Requirement already satisfied: tqdm>=4.41.0 in /usr/local/lib/python3.12/dist-packages (from roboflow) (4.67.1)\n",
            "Requirement already satisfied: PyYAML>=5.3.1 in /usr/local/lib/python3.12/dist-packages (from roboflow) (6.0.2)\n",
            "Requirement already satisfied: requests-toolbelt in /usr/local/lib/python3.12/dist-packages (from roboflow) (1.0.0)\n",
            "Requirement already satisfied: filetype in /usr/local/lib/python3.12/dist-packages (from roboflow) (1.2.0)\n",
            "Requirement already satisfied: contourpy>=1.0.1 in /usr/local/lib/python3.12/dist-packages (from matplotlib->roboflow) (1.3.3)\n",
            "Requirement already satisfied: fonttools>=4.22.0 in /usr/local/lib/python3.12/dist-packages (from matplotlib->roboflow) (4.59.1)\n",
            "Requirement already satisfied: packaging>=20.0 in /usr/local/lib/python3.12/dist-packages (from matplotlib->roboflow) (25.0)\n",
            "Requirement already satisfied: pyparsing>=2.3.1 in /usr/local/lib/python3.12/dist-packages (from matplotlib->roboflow) (3.2.3)\n",
            "Requirement already satisfied: charset_normalizer<4,>=2 in /usr/local/lib/python3.12/dist-packages (from requests->roboflow) (3.4.3)\n",
            "loading Roboflow workspace...\n",
            "loading Roboflow project...\n"
          ]
        },
        {
          "output_type": "stream",
          "name": "stderr",
          "text": [
            "Downloading Dataset Version Zip in yolo-v8-project-1 to yolov8:: 100%|██████████| 13786/13786 [00:00<00:00, 28336.88it/s]"
          ]
        },
        {
          "output_type": "stream",
          "name": "stdout",
          "text": [
            "\n"
          ]
        },
        {
          "output_type": "stream",
          "name": "stderr",
          "text": [
            "\n",
            "Extracting Dataset Version Zip to yolo-v8-project-1 in yolov8:: 100%|██████████| 412/412 [00:00<00:00, 5403.14it/s]\n"
          ]
        }
      ]
    },
    {
      "cell_type": "code",
      "source": [
        "!unzip '/content/yolo v8 project.v1-yolo-v8-.yolov8-obb.zip' -d datasets/\n",
        "!ls datasets\n"
      ],
      "metadata": {
        "colab": {
          "base_uri": "https://localhost:8080/"
        },
        "id": "RcpF2Luq0Ngm",
        "outputId": "14d76dbe-c246-412f-b8d6-92b9deb0c744"
      },
      "execution_count": null,
      "outputs": [
        {
          "output_type": "stream",
          "name": "stdout",
          "text": [
            "Archive:  /content/yolo v8 project.v1-yolo-v8-.yolov8-obb.zip\n",
            "  inflating: datasets/README.dataset.txt  \n",
            "  inflating: datasets/README.roboflow.txt  \n",
            "  inflating: datasets/data.yaml      \n",
            "   creating: datasets/test/\n",
            "   creating: datasets/test/images/\n",
            " extracting: datasets/test/images/pic-102-_jpg.rf.f0ab5d04fa24d6233af06ff27a24c30a.jpg  \n",
            " extracting: datasets/test/images/pic-108-_jpg.rf.24a29aaf913119696a254a69d17f388b.jpg  \n",
            " extracting: datasets/test/images/pic-11-_jpg.rf.76dfc8f59a4496f1f66358c99c9fb9e2.jpg  \n",
            " extracting: datasets/test/images/pic-111-_jpg.rf.8b2f3d2a1c29dc6f16711892d2118d8e.jpg  \n",
            " extracting: datasets/test/images/pic-126-_jpg.rf.361504a61eac88c29bd3e05114326e4d.jpg  \n",
            " extracting: datasets/test/images/pic-128-_jpg.rf.951a6fbc9af798d539cc528fe238aa47.jpg  \n",
            " extracting: datasets/test/images/pic-13-_jpg.rf.a4d891f9408d5b36aaa7101c796cd6ad.jpg  \n",
            " extracting: datasets/test/images/pic-135-_jpg.rf.571aa4d4754cea8d34283c612f571799.jpg  \n",
            " extracting: datasets/test/images/pic-145-_jpg.rf.23e4c8cd03c4b74faf34d0ffb8050700.jpg  \n",
            " extracting: datasets/test/images/pic-146-_jpg.rf.6a7b546d9413d45bed52b40efc4cc462.jpg  \n",
            " extracting: datasets/test/images/pic-147-_jpg.rf.59f39f17143f7178bfa5d724e2a0f8d3.jpg  \n",
            " extracting: datasets/test/images/pic-147-_jpg.rf.7b86946109f7df621dd03925b80da04b.jpg  \n",
            " extracting: datasets/test/images/pic-149-_jpg.rf.1ef0515cbd9006465da91b0e37798687.jpg  \n",
            " extracting: datasets/test/images/pic-153-_jpg.rf.915b8e7a45de5316c66d563146868d5c.jpg  \n",
            " extracting: datasets/test/images/pic-159-_jpg.rf.860ee2f14b8748c3434db7f92843d802.jpg  \n",
            " extracting: datasets/test/images/pic-160-_jpg.rf.082be0fa6cf55ff854c7e03c3e419a3b.jpg  \n",
            " extracting: datasets/test/images/pic-174-_jpg.rf.843bde78da998df6e3a6f8a784393392.jpg  \n",
            " extracting: datasets/test/images/pic-176-_jpg.rf.1ccb537634752aa674ef970a566ae841.jpg  \n",
            " extracting: datasets/test/images/pic-179-_jpg.rf.e6303618f44cb1582da0bb007d119787.jpg  \n",
            " extracting: datasets/test/images/pic-181-_jpg.rf.411b70a4580097d8761ddbc97f51ef07.jpg  \n",
            " extracting: datasets/test/images/pic-181-_jpg.rf.6b4a8a8c7886db2307f4d41595b69c2b.jpg  \n",
            "   creating: datasets/test/labels/\n",
            "  inflating: datasets/test/labels/pic-102-_jpg.rf.f0ab5d04fa24d6233af06ff27a24c30a.txt  \n",
            "  inflating: datasets/test/labels/pic-108-_jpg.rf.24a29aaf913119696a254a69d17f388b.txt  \n",
            "  inflating: datasets/test/labels/pic-11-_jpg.rf.76dfc8f59a4496f1f66358c99c9fb9e2.txt  \n",
            "  inflating: datasets/test/labels/pic-111-_jpg.rf.8b2f3d2a1c29dc6f16711892d2118d8e.txt  \n",
            "  inflating: datasets/test/labels/pic-126-_jpg.rf.361504a61eac88c29bd3e05114326e4d.txt  \n",
            "  inflating: datasets/test/labels/pic-128-_jpg.rf.951a6fbc9af798d539cc528fe238aa47.txt  \n",
            "  inflating: datasets/test/labels/pic-13-_jpg.rf.a4d891f9408d5b36aaa7101c796cd6ad.txt  \n",
            "  inflating: datasets/test/labels/pic-135-_jpg.rf.571aa4d4754cea8d34283c612f571799.txt  \n",
            "  inflating: datasets/test/labels/pic-145-_jpg.rf.23e4c8cd03c4b74faf34d0ffb8050700.txt  \n",
            "  inflating: datasets/test/labels/pic-146-_jpg.rf.6a7b546d9413d45bed52b40efc4cc462.txt  \n",
            "  inflating: datasets/test/labels/pic-147-_jpg.rf.59f39f17143f7178bfa5d724e2a0f8d3.txt  \n",
            "  inflating: datasets/test/labels/pic-147-_jpg.rf.7b86946109f7df621dd03925b80da04b.txt  \n",
            "  inflating: datasets/test/labels/pic-149-_jpg.rf.1ef0515cbd9006465da91b0e37798687.txt  \n",
            "  inflating: datasets/test/labels/pic-153-_jpg.rf.915b8e7a45de5316c66d563146868d5c.txt  \n",
            "  inflating: datasets/test/labels/pic-159-_jpg.rf.860ee2f14b8748c3434db7f92843d802.txt  \n",
            "  inflating: datasets/test/labels/pic-160-_jpg.rf.082be0fa6cf55ff854c7e03c3e419a3b.txt  \n",
            "  inflating: datasets/test/labels/pic-174-_jpg.rf.843bde78da998df6e3a6f8a784393392.txt  \n",
            "  inflating: datasets/test/labels/pic-176-_jpg.rf.1ccb537634752aa674ef970a566ae841.txt  \n",
            "  inflating: datasets/test/labels/pic-179-_jpg.rf.e6303618f44cb1582da0bb007d119787.txt  \n",
            "  inflating: datasets/test/labels/pic-181-_jpg.rf.411b70a4580097d8761ddbc97f51ef07.txt  \n",
            "  inflating: datasets/test/labels/pic-181-_jpg.rf.6b4a8a8c7886db2307f4d41595b69c2b.txt  \n",
            "   creating: datasets/train/\n",
            "   creating: datasets/train/images/\n",
            " extracting: datasets/train/images/pic-1-_jpg.rf.0d057b02a2521d33221cad14d862c356.jpg  \n",
            " extracting: datasets/train/images/pic-1-_jpg.rf.616af8bbd9be3589d70dcb02d3455a59.jpg  \n",
            " extracting: datasets/train/images/pic-1-_jpg.rf.6fec5328c6e6b63f3e81b67c8e718d23.jpg  \n",
            " extracting: datasets/train/images/pic-10-_jpg.rf.a9dc4bc536b134db35d1a97a4d46de1f.jpg  \n",
            " extracting: datasets/train/images/pic-10-_jpg.rf.c3bbcd503b6ad25aff34c091228fd80f.jpg  \n",
            " extracting: datasets/train/images/pic-100-_jpg.rf.30ba7ace62576243dd2a3764853bd9b6.jpg  \n",
            " extracting: datasets/train/images/pic-100-_jpg.rf.9a07cc7c49cd0c0685735ee27f64136b.jpg  \n",
            " extracting: datasets/train/images/pic-100-_jpg.rf.abe7e6cf7e6d0c7deab402affea72f14.jpg  \n",
            " extracting: datasets/train/images/pic-101-_jpg.rf.10128b7e05298e64be1529a5d7efc69e.jpg  \n",
            " extracting: datasets/train/images/pic-101-_jpg.rf.946bacb3b9c5389627d3c01051e3fdf5.jpg  \n",
            " extracting: datasets/train/images/pic-101-_jpg.rf.956a1e267d0e1e2bb0f1e5a37caeeb2b.jpg  \n",
            " extracting: datasets/train/images/pic-102-_jpg.rf.e68f0d92f4be2abcaa1c9c7da0316f76.jpg  \n",
            " extracting: datasets/train/images/pic-103-_jpg.rf.314ce41a0074992795fb31a02832018b.jpg  \n",
            " extracting: datasets/train/images/pic-103-_jpg.rf.f26d710e50050f28cdfd2d06a83b37de.jpg  \n",
            " extracting: datasets/train/images/pic-103-_jpg.rf.f31551269b1864d1b23fda03a12a6587.jpg  \n",
            " extracting: datasets/train/images/pic-104-_jpg.rf.388dceae5feaa9286ddd974b50d763a5.jpg  \n",
            " extracting: datasets/train/images/pic-104-_jpg.rf.4ad5d98b45f3c7c2c97182cbd25c6592.jpg  \n",
            " extracting: datasets/train/images/pic-104-_jpg.rf.af10adbcd64d673e830196f67225da94.jpg  \n",
            " extracting: datasets/train/images/pic-105-_jpg.rf.8d1688d51fc6bb09e32a380c07862e13.jpg  \n",
            " extracting: datasets/train/images/pic-105-_jpg.rf.ca9f4c65331a04dcaddcc388350caaeb.jpg  \n",
            " extracting: datasets/train/images/pic-106-_jpg.rf.7af20583cc6cc2afcd358c34c05e9123.jpg  \n",
            " extracting: datasets/train/images/pic-106-_jpg.rf.9b7148c940f85405bf7b11ac7061df56.jpg  \n",
            " extracting: datasets/train/images/pic-107-_jpg.rf.304b5939d2ebdfa74f924099520fc135.jpg  \n",
            " extracting: datasets/train/images/pic-107-_jpg.rf.34d65fb8002e1c709ae12371cca3865e.jpg  \n",
            " extracting: datasets/train/images/pic-107-_jpg.rf.49758db1228308cc3cd6c1285616c0bf.jpg  \n",
            " extracting: datasets/train/images/pic-109-_jpg.rf.65f48b60ad9dec045bcb315309cbb1cd.jpg  \n",
            " extracting: datasets/train/images/pic-109-_jpg.rf.a9f544f4d650f8e410cd3a57c854987c.jpg  \n",
            " extracting: datasets/train/images/pic-11-_jpg.rf.4ccb2c170f9bb9b991d5afb4a08a2448.jpg  \n",
            " extracting: datasets/train/images/pic-11-_jpg.rf.c8736ef6636f5a9a3e30e3e688665841.jpg  \n",
            " extracting: datasets/train/images/pic-110-_jpg.rf.7fb5d0e2794b63d1139fc09f68904373.jpg  \n",
            " extracting: datasets/train/images/pic-110-_jpg.rf.8f18d4647d486d0e19aef48adef8add3.jpg  \n",
            " extracting: datasets/train/images/pic-110-_jpg.rf.947dffbfe3e2dab17d1894b016973b59.jpg  \n",
            " extracting: datasets/train/images/pic-111-_jpg.rf.2efa2406155c5e8b20f93600e7951599.jpg  \n",
            " extracting: datasets/train/images/pic-111-_jpg.rf.8e4e84746219d51a95770d6a24f5123d.jpg  \n",
            " extracting: datasets/train/images/pic-112-_jpg.rf.925974ebbd469a33f46182943cbbd103.jpg  \n",
            " extracting: datasets/train/images/pic-112-_jpg.rf.b0894d64848c759115d7eab4e22e3050.jpg  \n",
            " extracting: datasets/train/images/pic-113-_jpg.rf.589c47e70155dce2214409b818a0af12.jpg  \n",
            " extracting: datasets/train/images/pic-113-_jpg.rf.d1747aef6367ef37a9d914c4b8618077.jpg  \n",
            " extracting: datasets/train/images/pic-115-_jpg.rf.36760e962f093dc3d7321fb0336210ad.jpg  \n",
            " extracting: datasets/train/images/pic-115-_jpg.rf.9bd6658b2989f1ff13eb0e3e2a09d0bd.jpg  \n",
            " extracting: datasets/train/images/pic-115-_jpg.rf.e26657fe14f9c87d6c4b68ae8c7e2f7b.jpg  \n",
            " extracting: datasets/train/images/pic-117-_jpg.rf.3e4c74ae08246a0cf1f50507b94cdf4d.jpg  \n",
            " extracting: datasets/train/images/pic-117-_jpg.rf.aa9168cdb873957b5dd0fe57d26b825b.jpg  \n",
            " extracting: datasets/train/images/pic-118-_jpg.rf.19914ec8047368193950988c05762e48.jpg  \n",
            " extracting: datasets/train/images/pic-118-_jpg.rf.98084366e689e1342596b3b6739732e8.jpg  \n",
            " extracting: datasets/train/images/pic-118-_jpg.rf.ef23bdbed31c2f9d7852b61f5bc1e796.jpg  \n",
            " extracting: datasets/train/images/pic-119-_jpg.rf.064c23a3830b55682af3bc08359feeca.jpg  \n",
            " extracting: datasets/train/images/pic-119-_jpg.rf.eb79cfcece49e1c577fbfb7a92f6ec0d.jpg  \n",
            " extracting: datasets/train/images/pic-119-_jpg.rf.f069807c312c111fb5ef83a246ad7d06.jpg  \n",
            " extracting: datasets/train/images/pic-12-_jpg.rf.079f99e43fd2090f0c3e206e56a09aa1.jpg  \n",
            " extracting: datasets/train/images/pic-12-_jpg.rf.91e39958dd11ef6784a18b3c3250a490.jpg  \n",
            " extracting: datasets/train/images/pic-121-_jpg.rf.067d2a91394ce25201a5e7192f696dc5.jpg  \n",
            " extracting: datasets/train/images/pic-121-_jpg.rf.e2ea397bae0fec14990cef759fb02ff7.jpg  \n",
            " extracting: datasets/train/images/pic-121-_jpg.rf.f5329eb046bc756c017695b493a51d33.jpg  \n",
            " extracting: datasets/train/images/pic-122-_jpg.rf.457a67ee37b9f287805d54bbd32df080.jpg  \n",
            " extracting: datasets/train/images/pic-122-_jpg.rf.93a9a4b065d99eae0cb2c482553e39bc.jpg  \n",
            " extracting: datasets/train/images/pic-124-_jpg.rf.081da3f4ece4d609298ea602ccc26945.jpg  \n",
            " extracting: datasets/train/images/pic-124-_jpg.rf.e180f7a08ffd3cf2638605ab75410257.jpg  \n",
            " extracting: datasets/train/images/pic-126-_jpg.rf.621155cf9b058545f39a4574cd1b8b93.jpg  \n",
            " extracting: datasets/train/images/pic-126-_jpg.rf.6cf43ec6349733c78db103eff5ccdae3.jpg  \n",
            " extracting: datasets/train/images/pic-127-_jpg.rf.b37f9ebf67c3246b3e03afcd7a14db23.jpg  \n",
            " extracting: datasets/train/images/pic-13-_jpg.rf.c9d440d32007d8c268c4b74181cc0aa1.jpg  \n",
            " extracting: datasets/train/images/pic-130-_jpg.rf.a318e4ee952c52d20549f577942d0c19.jpg  \n",
            " extracting: datasets/train/images/pic-130-_jpg.rf.f0472b1a0d1abfb1df6fea5f823d9048.jpg  \n",
            " extracting: datasets/train/images/pic-131-_jpg.rf.2ef6996c2100d04983176bad20470aac.jpg  \n",
            " extracting: datasets/train/images/pic-131-_jpg.rf.4db4f2750c62184e220721fe83eb184c.jpg  \n",
            " extracting: datasets/train/images/pic-131-_jpg.rf.d0ad57abe2c3969d4da63f8423ae9957.jpg  \n",
            " extracting: datasets/train/images/pic-132-_jpg.rf.2c482e743c1b0b90255714b1f0915ea6.jpg  \n",
            " extracting: datasets/train/images/pic-132-_jpg.rf.72184ed3c0f471ae7638f22a2263a711.jpg  \n",
            " extracting: datasets/train/images/pic-132-_jpg.rf.f5771988acb69c0e6563f0e72badcd37.jpg  \n",
            " extracting: datasets/train/images/pic-133-_jpg.rf.d2b9eb0277d78bd6bff410d5a19ed72b.jpg  \n",
            " extracting: datasets/train/images/pic-133-_jpg.rf.d6894c044b8e655b935218ab4889980b.jpg  \n",
            " extracting: datasets/train/images/pic-133-_jpg.rf.f08cdb618d0ce621fb6807dd9066695f.jpg  \n",
            " extracting: datasets/train/images/pic-134-_jpg.rf.46079051c1bda84399f0e76f7482a82e.jpg  \n",
            " extracting: datasets/train/images/pic-134-_jpg.rf.8a04fb5776789cd528e4703f597dfeff.jpg  \n",
            " extracting: datasets/train/images/pic-135-_jpg.rf.308a7428d22873166d8a799cf11ad60a.jpg  \n",
            " extracting: datasets/train/images/pic-135-_jpg.rf.3e8842e2a44a6c1d8f07d6ab4e3aee43.jpg  \n",
            " extracting: datasets/train/images/pic-136-_jpg.rf.698d53bee0539eff839309034c64031b.jpg  \n",
            " extracting: datasets/train/images/pic-136-_jpg.rf.dec3a1b7fc3257a17e800a62200208df.jpg  \n",
            " extracting: datasets/train/images/pic-137-_jpg.rf.370b00953ccb6a5dc9f3aad680fd327b.jpg  \n",
            " extracting: datasets/train/images/pic-138-_jpg.rf.593e20e591a0760e9017083a0cabfe03.jpg  \n",
            " extracting: datasets/train/images/pic-138-_jpg.rf.b60b4c497b4a494e39c189d23591dd25.jpg  \n",
            " extracting: datasets/train/images/pic-138-_jpg.rf.e3c5985c0b3557f013a6d07856234ce2.jpg  \n",
            " extracting: datasets/train/images/pic-139-_jpg.rf.5cd71017ac7861bb09dadd93c8f53107.jpg  \n",
            " extracting: datasets/train/images/pic-139-_jpg.rf.a4182fb7b9785e2f6d4406e710a103f1.jpg  \n",
            " extracting: datasets/train/images/pic-14-_jpg.rf.0d8bbcb6c543053adeeb8c9c797411fa.jpg  \n",
            " extracting: datasets/train/images/pic-14-_jpg.rf.9900c5b0e6cdd85b2bc4ab7288f3f88b.jpg  \n",
            " extracting: datasets/train/images/pic-14-_jpg.rf.9fc7171bf203b32846325fd21838764b.jpg  \n",
            " extracting: datasets/train/images/pic-141-_jpg.rf.7de4dbbee29d1fb6b692c1419be85b87.jpg  \n",
            " extracting: datasets/train/images/pic-141-_jpg.rf.f7b3fd8b998f7c5878af9d32b85c2b62.jpg  \n",
            " extracting: datasets/train/images/pic-142-_jpg.rf.0260960581e6dd80aab00d9d6767f6c1.jpg  \n",
            " extracting: datasets/train/images/pic-142-_jpg.rf.faaedeac935171e870232ee36f8f073a.jpg  \n",
            " extracting: datasets/train/images/pic-143-_jpg.rf.8233e0c5a925ec4bf31f9e3b59f856d1.jpg  \n",
            " extracting: datasets/train/images/pic-143-_jpg.rf.e9d56773d1384072c58edc8f16ee10b1.jpg  \n",
            " extracting: datasets/train/images/pic-143-_jpg.rf.ea480794b793c1d2436e219324ea3f45.jpg  \n",
            " extracting: datasets/train/images/pic-145-_jpg.rf.470266bd5a2a846c7a48564ee59520f5.jpg  \n",
            " extracting: datasets/train/images/pic-145-_jpg.rf.d5031e72159e6ba63a751f7e3b3778d1.jpg  \n",
            " extracting: datasets/train/images/pic-146-_jpg.rf.a57284a63c455289bd7ab27fbd6b2ae7.jpg  \n",
            " extracting: datasets/train/images/pic-147-_jpg.rf.d947ec91fb57471826a3c4b0226a183d.jpg  \n",
            " extracting: datasets/train/images/pic-148-_jpg.rf.5df9c6b36185d23704a57655809f9c8e.jpg  \n",
            " extracting: datasets/train/images/pic-148-_jpg.rf.901c952682bd55a702012f0b0667d27e.jpg  \n",
            " extracting: datasets/train/images/pic-148-_jpg.rf.a95cc6fd6e5bae83312b3c2113d7b2b9.jpg  \n",
            " extracting: datasets/train/images/pic-149-_jpg.rf.c4f889f8237c7c60881c4c2ac9e4fc2b.jpg  \n",
            " extracting: datasets/train/images/pic-15-_jpg.rf.13b7f3a5ea02a8f8c5383175551b5f30.jpg  \n",
            " extracting: datasets/train/images/pic-15-_jpg.rf.e37a7619ea7341f8c70b6116c57e689f.jpg  \n",
            " extracting: datasets/train/images/pic-150-_jpg.rf.10036533902f67e4045c5d3e4a85ab9a.jpg  \n",
            " extracting: datasets/train/images/pic-150-_jpg.rf.32e8deb505717a71f6b859406e88050c.jpg  \n",
            " extracting: datasets/train/images/pic-153-_jpg.rf.c9a28102b7a703687efb40a4b0502ab0.jpg  \n",
            " extracting: datasets/train/images/pic-153-_jpg.rf.e1c47dd7127dc09359aef3fc9302f732.jpg  \n",
            " extracting: datasets/train/images/pic-155-_jpg.rf.01ec11571b6240e0d5388087ccfd4c52.jpg  \n",
            " extracting: datasets/train/images/pic-155-_jpg.rf.79017221b11d5e8d2e833fdf7e020fab.jpg  \n",
            " extracting: datasets/train/images/pic-155-_jpg.rf.a6b8d557a726997814ff0887028021f4.jpg  \n",
            " extracting: datasets/train/images/pic-156-_jpg.rf.005ce4e7a5f2e650cb965809b2bd0d9f.jpg  \n",
            " extracting: datasets/train/images/pic-156-_jpg.rf.45d019031c1c8a4ff90292669a5ddab3.jpg  \n",
            " extracting: datasets/train/images/pic-158-_jpg.rf.6e376fd97848c0c19f3e26f043bcdf59.jpg  \n",
            " extracting: datasets/train/images/pic-158-_jpg.rf.9865845b2205782ecf00c9a9c0eb7d4a.jpg  \n",
            " extracting: datasets/train/images/pic-159-_jpg.rf.797544f5f566da5798249c5f4d660107.jpg  \n",
            " extracting: datasets/train/images/pic-162-_jpg.rf.fd70646e5dd17e13ea5a4666a720569a.jpg  \n",
            " extracting: datasets/train/images/pic-163-_jpg.rf.30e3baccbfdd5cce8f5fbdc0bdd34e01.jpg  \n",
            " extracting: datasets/train/images/pic-163-_jpg.rf.5287a1eb9fb77c684d6932b7bda12126.jpg  \n",
            " extracting: datasets/train/images/pic-164-_jpg.rf.47e69c7354291bc61704713d4de1d696.jpg  \n",
            " extracting: datasets/train/images/pic-164-_jpg.rf.f79eece77057c4f413889c0e1a95b826.jpg  \n",
            " extracting: datasets/train/images/pic-166-_jpg.rf.4cecfc1ae7edcd09fa4b8975a243c0b9.jpg  \n",
            " extracting: datasets/train/images/pic-167-_jpg.rf.b4181e8c0e0c00d47b009258af28c0f3.jpg  \n",
            " extracting: datasets/train/images/pic-168-_jpg.rf.f489d71797dfc9da4750997b5f5a03ea.jpg  \n",
            " extracting: datasets/train/images/pic-169-_jpg.rf.eaa65debe18364d814cd06cae785af2d.jpg  \n",
            " extracting: datasets/train/images/pic-171-_jpg.rf.2372f1d3e04bbbbaf49545c5de6f30ae.jpg  \n",
            " extracting: datasets/train/images/pic-171-_jpg.rf.69ec8794990407193533c143aa2a1dbc.jpg  \n",
            " extracting: datasets/train/images/pic-171-_jpg.rf.f7d2d5d2e4a315844c7af90e56b7369a.jpg  \n",
            " extracting: datasets/train/images/pic-172-_jpg.rf.6ac2974f2bb91c020cebc5d2448854b2.jpg  \n",
            " extracting: datasets/train/images/pic-174-_jpg.rf.d99809833b8b5ded98848a0291e0eda9.jpg  \n",
            " extracting: datasets/train/images/pic-176-_jpg.rf.876e6eb22819ed3a047001b1ce8e8aae.jpg  \n",
            " extracting: datasets/train/images/pic-177-_jpg.rf.910b55624d68a72f23fa387ac60f4298.jpg  \n",
            " extracting: datasets/train/images/pic-177-_jpg.rf.fa1cba2faf3e4932afb660e97aaaf46d.jpg  \n",
            " extracting: datasets/train/images/pic-18-_jpg.rf.dc61a886feb449f44042c20f03b5002b.jpg  \n",
            " extracting: datasets/train/images/pic-180-_jpg.rf.1cd35212e2ad08af99b0db08464ff269.jpg  \n",
            " extracting: datasets/train/images/pic-180-_jpg.rf.ccf36d0b6b92276ffc0931e8a52b381d.jpg  \n",
            " extracting: datasets/train/images/pic-181-_jpg.rf.d43ee08086de408e28da6453b59551ff.jpg  \n",
            " extracting: datasets/train/images/pic-182-_jpg.rf.1e2d21482cca02cc85fa2aa37c385ba9.jpg  \n",
            " extracting: datasets/train/images/pic-182-_jpg.rf.d7af9b1a4d6c877eaa81108ffe5d7a55.jpg  \n",
            " extracting: datasets/train/images/pic-182-_jpg.rf.d7faf1d7405d476e9dbb79bc65157ed1.jpg  \n",
            " extracting: datasets/train/images/pic-185-_jpg.rf.57fae90a8385d244626ba8dc4a5bd72f.jpg  \n",
            " extracting: datasets/train/images/pic-185-_jpg.rf.d9a52a6b7f6420a97b0d2a4f0f68fa77.jpg  \n",
            " extracting: datasets/train/images/pic-187-_jpg.rf.cd2b094f7a17aa7ed84b301b2905ed09.jpg  \n",
            "   creating: datasets/train/labels/\n",
            "  inflating: datasets/train/labels/pic-1-_jpg.rf.0d057b02a2521d33221cad14d862c356.txt  \n",
            "  inflating: datasets/train/labels/pic-1-_jpg.rf.616af8bbd9be3589d70dcb02d3455a59.txt  \n",
            "  inflating: datasets/train/labels/pic-1-_jpg.rf.6fec5328c6e6b63f3e81b67c8e718d23.txt  \n",
            "  inflating: datasets/train/labels/pic-10-_jpg.rf.a9dc4bc536b134db35d1a97a4d46de1f.txt  \n",
            "  inflating: datasets/train/labels/pic-10-_jpg.rf.c3bbcd503b6ad25aff34c091228fd80f.txt  \n",
            "  inflating: datasets/train/labels/pic-100-_jpg.rf.30ba7ace62576243dd2a3764853bd9b6.txt  \n",
            "  inflating: datasets/train/labels/pic-100-_jpg.rf.9a07cc7c49cd0c0685735ee27f64136b.txt  \n",
            "  inflating: datasets/train/labels/pic-100-_jpg.rf.abe7e6cf7e6d0c7deab402affea72f14.txt  \n",
            "  inflating: datasets/train/labels/pic-101-_jpg.rf.10128b7e05298e64be1529a5d7efc69e.txt  \n",
            "  inflating: datasets/train/labels/pic-101-_jpg.rf.946bacb3b9c5389627d3c01051e3fdf5.txt  \n",
            "  inflating: datasets/train/labels/pic-101-_jpg.rf.956a1e267d0e1e2bb0f1e5a37caeeb2b.txt  \n",
            "  inflating: datasets/train/labels/pic-102-_jpg.rf.e68f0d92f4be2abcaa1c9c7da0316f76.txt  \n",
            "  inflating: datasets/train/labels/pic-103-_jpg.rf.314ce41a0074992795fb31a02832018b.txt  \n",
            "  inflating: datasets/train/labels/pic-103-_jpg.rf.f26d710e50050f28cdfd2d06a83b37de.txt  \n",
            "  inflating: datasets/train/labels/pic-103-_jpg.rf.f31551269b1864d1b23fda03a12a6587.txt  \n",
            "  inflating: datasets/train/labels/pic-104-_jpg.rf.388dceae5feaa9286ddd974b50d763a5.txt  \n",
            "  inflating: datasets/train/labels/pic-104-_jpg.rf.4ad5d98b45f3c7c2c97182cbd25c6592.txt  \n",
            "  inflating: datasets/train/labels/pic-104-_jpg.rf.af10adbcd64d673e830196f67225da94.txt  \n",
            "  inflating: datasets/train/labels/pic-105-_jpg.rf.8d1688d51fc6bb09e32a380c07862e13.txt  \n",
            "  inflating: datasets/train/labels/pic-105-_jpg.rf.ca9f4c65331a04dcaddcc388350caaeb.txt  \n",
            "  inflating: datasets/train/labels/pic-106-_jpg.rf.7af20583cc6cc2afcd358c34c05e9123.txt  \n",
            "  inflating: datasets/train/labels/pic-106-_jpg.rf.9b7148c940f85405bf7b11ac7061df56.txt  \n",
            "  inflating: datasets/train/labels/pic-107-_jpg.rf.304b5939d2ebdfa74f924099520fc135.txt  \n",
            "  inflating: datasets/train/labels/pic-107-_jpg.rf.34d65fb8002e1c709ae12371cca3865e.txt  \n",
            "  inflating: datasets/train/labels/pic-107-_jpg.rf.49758db1228308cc3cd6c1285616c0bf.txt  \n",
            "  inflating: datasets/train/labels/pic-109-_jpg.rf.65f48b60ad9dec045bcb315309cbb1cd.txt  \n",
            "  inflating: datasets/train/labels/pic-109-_jpg.rf.a9f544f4d650f8e410cd3a57c854987c.txt  \n",
            "  inflating: datasets/train/labels/pic-11-_jpg.rf.4ccb2c170f9bb9b991d5afb4a08a2448.txt  \n",
            "  inflating: datasets/train/labels/pic-11-_jpg.rf.c8736ef6636f5a9a3e30e3e688665841.txt  \n",
            "  inflating: datasets/train/labels/pic-110-_jpg.rf.7fb5d0e2794b63d1139fc09f68904373.txt  \n",
            "  inflating: datasets/train/labels/pic-110-_jpg.rf.8f18d4647d486d0e19aef48adef8add3.txt  \n",
            "  inflating: datasets/train/labels/pic-110-_jpg.rf.947dffbfe3e2dab17d1894b016973b59.txt  \n",
            "  inflating: datasets/train/labels/pic-111-_jpg.rf.2efa2406155c5e8b20f93600e7951599.txt  \n",
            "  inflating: datasets/train/labels/pic-111-_jpg.rf.8e4e84746219d51a95770d6a24f5123d.txt  \n",
            "  inflating: datasets/train/labels/pic-112-_jpg.rf.925974ebbd469a33f46182943cbbd103.txt  \n",
            "  inflating: datasets/train/labels/pic-112-_jpg.rf.b0894d64848c759115d7eab4e22e3050.txt  \n",
            "  inflating: datasets/train/labels/pic-113-_jpg.rf.589c47e70155dce2214409b818a0af12.txt  \n",
            "  inflating: datasets/train/labels/pic-113-_jpg.rf.d1747aef6367ef37a9d914c4b8618077.txt  \n",
            "  inflating: datasets/train/labels/pic-115-_jpg.rf.36760e962f093dc3d7321fb0336210ad.txt  \n",
            "  inflating: datasets/train/labels/pic-115-_jpg.rf.9bd6658b2989f1ff13eb0e3e2a09d0bd.txt  \n",
            "  inflating: datasets/train/labels/pic-115-_jpg.rf.e26657fe14f9c87d6c4b68ae8c7e2f7b.txt  \n",
            "  inflating: datasets/train/labels/pic-117-_jpg.rf.3e4c74ae08246a0cf1f50507b94cdf4d.txt  \n",
            "  inflating: datasets/train/labels/pic-117-_jpg.rf.aa9168cdb873957b5dd0fe57d26b825b.txt  \n",
            "  inflating: datasets/train/labels/pic-118-_jpg.rf.19914ec8047368193950988c05762e48.txt  \n",
            "  inflating: datasets/train/labels/pic-118-_jpg.rf.98084366e689e1342596b3b6739732e8.txt  \n",
            "  inflating: datasets/train/labels/pic-118-_jpg.rf.ef23bdbed31c2f9d7852b61f5bc1e796.txt  \n",
            "  inflating: datasets/train/labels/pic-119-_jpg.rf.064c23a3830b55682af3bc08359feeca.txt  \n",
            "  inflating: datasets/train/labels/pic-119-_jpg.rf.eb79cfcece49e1c577fbfb7a92f6ec0d.txt  \n",
            "  inflating: datasets/train/labels/pic-119-_jpg.rf.f069807c312c111fb5ef83a246ad7d06.txt  \n",
            "  inflating: datasets/train/labels/pic-12-_jpg.rf.079f99e43fd2090f0c3e206e56a09aa1.txt  \n",
            "  inflating: datasets/train/labels/pic-12-_jpg.rf.91e39958dd11ef6784a18b3c3250a490.txt  \n",
            "  inflating: datasets/train/labels/pic-121-_jpg.rf.067d2a91394ce25201a5e7192f696dc5.txt  \n",
            "  inflating: datasets/train/labels/pic-121-_jpg.rf.e2ea397bae0fec14990cef759fb02ff7.txt  \n",
            "  inflating: datasets/train/labels/pic-121-_jpg.rf.f5329eb046bc756c017695b493a51d33.txt  \n",
            "  inflating: datasets/train/labels/pic-122-_jpg.rf.457a67ee37b9f287805d54bbd32df080.txt  \n",
            "  inflating: datasets/train/labels/pic-122-_jpg.rf.93a9a4b065d99eae0cb2c482553e39bc.txt  \n",
            "  inflating: datasets/train/labels/pic-124-_jpg.rf.081da3f4ece4d609298ea602ccc26945.txt  \n",
            "  inflating: datasets/train/labels/pic-124-_jpg.rf.e180f7a08ffd3cf2638605ab75410257.txt  \n",
            "  inflating: datasets/train/labels/pic-126-_jpg.rf.621155cf9b058545f39a4574cd1b8b93.txt  \n",
            "  inflating: datasets/train/labels/pic-126-_jpg.rf.6cf43ec6349733c78db103eff5ccdae3.txt  \n",
            "  inflating: datasets/train/labels/pic-127-_jpg.rf.b37f9ebf67c3246b3e03afcd7a14db23.txt  \n",
            "  inflating: datasets/train/labels/pic-13-_jpg.rf.c9d440d32007d8c268c4b74181cc0aa1.txt  \n",
            "  inflating: datasets/train/labels/pic-130-_jpg.rf.a318e4ee952c52d20549f577942d0c19.txt  \n",
            "  inflating: datasets/train/labels/pic-130-_jpg.rf.f0472b1a0d1abfb1df6fea5f823d9048.txt  \n",
            "  inflating: datasets/train/labels/pic-131-_jpg.rf.2ef6996c2100d04983176bad20470aac.txt  \n",
            "  inflating: datasets/train/labels/pic-131-_jpg.rf.4db4f2750c62184e220721fe83eb184c.txt  \n",
            "  inflating: datasets/train/labels/pic-131-_jpg.rf.d0ad57abe2c3969d4da63f8423ae9957.txt  \n",
            "  inflating: datasets/train/labels/pic-132-_jpg.rf.2c482e743c1b0b90255714b1f0915ea6.txt  \n",
            "  inflating: datasets/train/labels/pic-132-_jpg.rf.72184ed3c0f471ae7638f22a2263a711.txt  \n",
            "  inflating: datasets/train/labels/pic-132-_jpg.rf.f5771988acb69c0e6563f0e72badcd37.txt  \n",
            "  inflating: datasets/train/labels/pic-133-_jpg.rf.d2b9eb0277d78bd6bff410d5a19ed72b.txt  \n",
            "  inflating: datasets/train/labels/pic-133-_jpg.rf.d6894c044b8e655b935218ab4889980b.txt  \n",
            "  inflating: datasets/train/labels/pic-133-_jpg.rf.f08cdb618d0ce621fb6807dd9066695f.txt  \n",
            "  inflating: datasets/train/labels/pic-134-_jpg.rf.46079051c1bda84399f0e76f7482a82e.txt  \n",
            "  inflating: datasets/train/labels/pic-134-_jpg.rf.8a04fb5776789cd528e4703f597dfeff.txt  \n",
            "  inflating: datasets/train/labels/pic-135-_jpg.rf.308a7428d22873166d8a799cf11ad60a.txt  \n",
            "  inflating: datasets/train/labels/pic-135-_jpg.rf.3e8842e2a44a6c1d8f07d6ab4e3aee43.txt  \n",
            "  inflating: datasets/train/labels/pic-136-_jpg.rf.698d53bee0539eff839309034c64031b.txt  \n",
            "  inflating: datasets/train/labels/pic-136-_jpg.rf.dec3a1b7fc3257a17e800a62200208df.txt  \n",
            "  inflating: datasets/train/labels/pic-137-_jpg.rf.370b00953ccb6a5dc9f3aad680fd327b.txt  \n",
            "  inflating: datasets/train/labels/pic-138-_jpg.rf.593e20e591a0760e9017083a0cabfe03.txt  \n",
            "  inflating: datasets/train/labels/pic-138-_jpg.rf.b60b4c497b4a494e39c189d23591dd25.txt  \n",
            "  inflating: datasets/train/labels/pic-138-_jpg.rf.e3c5985c0b3557f013a6d07856234ce2.txt  \n",
            "  inflating: datasets/train/labels/pic-139-_jpg.rf.5cd71017ac7861bb09dadd93c8f53107.txt  \n",
            "  inflating: datasets/train/labels/pic-139-_jpg.rf.a4182fb7b9785e2f6d4406e710a103f1.txt  \n",
            "  inflating: datasets/train/labels/pic-14-_jpg.rf.0d8bbcb6c543053adeeb8c9c797411fa.txt  \n",
            "  inflating: datasets/train/labels/pic-14-_jpg.rf.9900c5b0e6cdd85b2bc4ab7288f3f88b.txt  \n",
            "  inflating: datasets/train/labels/pic-14-_jpg.rf.9fc7171bf203b32846325fd21838764b.txt  \n",
            "  inflating: datasets/train/labels/pic-141-_jpg.rf.7de4dbbee29d1fb6b692c1419be85b87.txt  \n",
            "  inflating: datasets/train/labels/pic-141-_jpg.rf.f7b3fd8b998f7c5878af9d32b85c2b62.txt  \n",
            "  inflating: datasets/train/labels/pic-142-_jpg.rf.0260960581e6dd80aab00d9d6767f6c1.txt  \n",
            "  inflating: datasets/train/labels/pic-142-_jpg.rf.faaedeac935171e870232ee36f8f073a.txt  \n",
            "  inflating: datasets/train/labels/pic-143-_jpg.rf.8233e0c5a925ec4bf31f9e3b59f856d1.txt  \n",
            "  inflating: datasets/train/labels/pic-143-_jpg.rf.e9d56773d1384072c58edc8f16ee10b1.txt  \n",
            "  inflating: datasets/train/labels/pic-143-_jpg.rf.ea480794b793c1d2436e219324ea3f45.txt  \n",
            "  inflating: datasets/train/labels/pic-145-_jpg.rf.470266bd5a2a846c7a48564ee59520f5.txt  \n",
            "  inflating: datasets/train/labels/pic-145-_jpg.rf.d5031e72159e6ba63a751f7e3b3778d1.txt  \n",
            "  inflating: datasets/train/labels/pic-146-_jpg.rf.a57284a63c455289bd7ab27fbd6b2ae7.txt  \n",
            "  inflating: datasets/train/labels/pic-147-_jpg.rf.d947ec91fb57471826a3c4b0226a183d.txt  \n",
            "  inflating: datasets/train/labels/pic-148-_jpg.rf.5df9c6b36185d23704a57655809f9c8e.txt  \n",
            "  inflating: datasets/train/labels/pic-148-_jpg.rf.901c952682bd55a702012f0b0667d27e.txt  \n",
            "  inflating: datasets/train/labels/pic-148-_jpg.rf.a95cc6fd6e5bae83312b3c2113d7b2b9.txt  \n",
            "  inflating: datasets/train/labels/pic-149-_jpg.rf.c4f889f8237c7c60881c4c2ac9e4fc2b.txt  \n",
            "  inflating: datasets/train/labels/pic-15-_jpg.rf.13b7f3a5ea02a8f8c5383175551b5f30.txt  \n",
            "  inflating: datasets/train/labels/pic-15-_jpg.rf.e37a7619ea7341f8c70b6116c57e689f.txt  \n",
            "  inflating: datasets/train/labels/pic-150-_jpg.rf.10036533902f67e4045c5d3e4a85ab9a.txt  \n",
            "  inflating: datasets/train/labels/pic-150-_jpg.rf.32e8deb505717a71f6b859406e88050c.txt  \n",
            "  inflating: datasets/train/labels/pic-153-_jpg.rf.c9a28102b7a703687efb40a4b0502ab0.txt  \n",
            "  inflating: datasets/train/labels/pic-153-_jpg.rf.e1c47dd7127dc09359aef3fc9302f732.txt  \n",
            "  inflating: datasets/train/labels/pic-155-_jpg.rf.01ec11571b6240e0d5388087ccfd4c52.txt  \n",
            "  inflating: datasets/train/labels/pic-155-_jpg.rf.79017221b11d5e8d2e833fdf7e020fab.txt  \n",
            "  inflating: datasets/train/labels/pic-155-_jpg.rf.a6b8d557a726997814ff0887028021f4.txt  \n",
            "  inflating: datasets/train/labels/pic-156-_jpg.rf.005ce4e7a5f2e650cb965809b2bd0d9f.txt  \n",
            "  inflating: datasets/train/labels/pic-156-_jpg.rf.45d019031c1c8a4ff90292669a5ddab3.txt  \n",
            "  inflating: datasets/train/labels/pic-158-_jpg.rf.6e376fd97848c0c19f3e26f043bcdf59.txt  \n",
            "  inflating: datasets/train/labels/pic-158-_jpg.rf.9865845b2205782ecf00c9a9c0eb7d4a.txt  \n",
            "  inflating: datasets/train/labels/pic-159-_jpg.rf.797544f5f566da5798249c5f4d660107.txt  \n",
            "  inflating: datasets/train/labels/pic-162-_jpg.rf.fd70646e5dd17e13ea5a4666a720569a.txt  \n",
            "  inflating: datasets/train/labels/pic-163-_jpg.rf.30e3baccbfdd5cce8f5fbdc0bdd34e01.txt  \n",
            "  inflating: datasets/train/labels/pic-163-_jpg.rf.5287a1eb9fb77c684d6932b7bda12126.txt  \n",
            "  inflating: datasets/train/labels/pic-164-_jpg.rf.47e69c7354291bc61704713d4de1d696.txt  \n",
            "  inflating: datasets/train/labels/pic-164-_jpg.rf.f79eece77057c4f413889c0e1a95b826.txt  \n",
            "  inflating: datasets/train/labels/pic-166-_jpg.rf.4cecfc1ae7edcd09fa4b8975a243c0b9.txt  \n",
            "  inflating: datasets/train/labels/pic-167-_jpg.rf.b4181e8c0e0c00d47b009258af28c0f3.txt  \n",
            "  inflating: datasets/train/labels/pic-168-_jpg.rf.f489d71797dfc9da4750997b5f5a03ea.txt  \n",
            "  inflating: datasets/train/labels/pic-169-_jpg.rf.eaa65debe18364d814cd06cae785af2d.txt  \n",
            "  inflating: datasets/train/labels/pic-171-_jpg.rf.2372f1d3e04bbbbaf49545c5de6f30ae.txt  \n",
            "  inflating: datasets/train/labels/pic-171-_jpg.rf.69ec8794990407193533c143aa2a1dbc.txt  \n",
            "  inflating: datasets/train/labels/pic-171-_jpg.rf.f7d2d5d2e4a315844c7af90e56b7369a.txt  \n",
            "  inflating: datasets/train/labels/pic-172-_jpg.rf.6ac2974f2bb91c020cebc5d2448854b2.txt  \n",
            "  inflating: datasets/train/labels/pic-174-_jpg.rf.d99809833b8b5ded98848a0291e0eda9.txt  \n",
            "  inflating: datasets/train/labels/pic-176-_jpg.rf.876e6eb22819ed3a047001b1ce8e8aae.txt  \n",
            "  inflating: datasets/train/labels/pic-177-_jpg.rf.910b55624d68a72f23fa387ac60f4298.txt  \n",
            "  inflating: datasets/train/labels/pic-177-_jpg.rf.fa1cba2faf3e4932afb660e97aaaf46d.txt  \n",
            "  inflating: datasets/train/labels/pic-18-_jpg.rf.dc61a886feb449f44042c20f03b5002b.txt  \n",
            "  inflating: datasets/train/labels/pic-180-_jpg.rf.1cd35212e2ad08af99b0db08464ff269.txt  \n",
            "  inflating: datasets/train/labels/pic-180-_jpg.rf.ccf36d0b6b92276ffc0931e8a52b381d.txt  \n",
            "  inflating: datasets/train/labels/pic-181-_jpg.rf.d43ee08086de408e28da6453b59551ff.txt  \n",
            "  inflating: datasets/train/labels/pic-182-_jpg.rf.1e2d21482cca02cc85fa2aa37c385ba9.txt  \n",
            "  inflating: datasets/train/labels/pic-182-_jpg.rf.d7af9b1a4d6c877eaa81108ffe5d7a55.txt  \n",
            "  inflating: datasets/train/labels/pic-182-_jpg.rf.d7faf1d7405d476e9dbb79bc65157ed1.txt  \n",
            "  inflating: datasets/train/labels/pic-185-_jpg.rf.57fae90a8385d244626ba8dc4a5bd72f.txt  \n",
            "  inflating: datasets/train/labels/pic-185-_jpg.rf.d9a52a6b7f6420a97b0d2a4f0f68fa77.txt  \n",
            "  inflating: datasets/train/labels/pic-187-_jpg.rf.cd2b094f7a17aa7ed84b301b2905ed09.txt  \n",
            "   creating: datasets/valid/\n",
            "   creating: datasets/valid/images/\n",
            " extracting: datasets/valid/images/pic-10-_jpg.rf.db8ff08b96a6ecd833150eebaf4e91f5.jpg  \n",
            " extracting: datasets/valid/images/pic-102-_jpg.rf.9b6eca517ccc4ac7055de3b9940c52cf.jpg  \n",
            " extracting: datasets/valid/images/pic-105-_jpg.rf.3a9cb734b378357c2e6b32d3b61f4b66.jpg  \n",
            " extracting: datasets/valid/images/pic-106-_jpg.rf.d1ddba238a96a89cccb7702b2afe1b53.jpg  \n",
            " extracting: datasets/valid/images/pic-108-_jpg.rf.3d7ffb95fc9d8a8e5d5435ef25225761.jpg  \n",
            " extracting: datasets/valid/images/pic-108-_jpg.rf.621ddb9575093f0aac1d86bf5801b7a6.jpg  \n",
            " extracting: datasets/valid/images/pic-109-_jpg.rf.49822f77cf2cbe73a2015054e769d66a.jpg  \n",
            " extracting: datasets/valid/images/pic-112-_jpg.rf.e03def3ce5f3d0d3ed2442763f4a8ee0.jpg  \n",
            " extracting: datasets/valid/images/pic-113-_jpg.rf.e3920bf1524f4dce2a392230ea3f8b2a.jpg  \n",
            " extracting: datasets/valid/images/pic-117-_jpg.rf.87d09189de2c6418844fa5794caf1516.jpg  \n",
            " extracting: datasets/valid/images/pic-12-_jpg.rf.2c53f6597430adb467832ad862e4ef91.jpg  \n",
            " extracting: datasets/valid/images/pic-122-_jpg.rf.49c885296b6c2b0e57e92cc4742215ff.jpg  \n",
            " extracting: datasets/valid/images/pic-124-_jpg.rf.631ffb7f59e9bfb293e64fcd3789115e.jpg  \n",
            " extracting: datasets/valid/images/pic-127-_jpg.rf.738ec4956f1e297d4bb539aca45cf979.jpg  \n",
            " extracting: datasets/valid/images/pic-127-_jpg.rf.9f40f03b5f66aab6bdd589bc3f519fda.jpg  \n",
            " extracting: datasets/valid/images/pic-128-_jpg.rf.2a38d960e2a64f86b1e586f63bbcf243.jpg  \n",
            " extracting: datasets/valid/images/pic-128-_jpg.rf.a5b0f15250f475f6de72192b6ea947b6.jpg  \n",
            " extracting: datasets/valid/images/pic-13-_jpg.rf.015e0458b878bdf4c8dc03a376e59bcd.jpg  \n",
            " extracting: datasets/valid/images/pic-130-_jpg.rf.c8138f641a72d7b34f1d415b21a2ec10.jpg  \n",
            " extracting: datasets/valid/images/pic-134-_jpg.rf.1bb79ea287c7f7bd5d247315c402aee9.jpg  \n",
            " extracting: datasets/valid/images/pic-136-_jpg.rf.db4097f23ad0d8a662940f23a852600e.jpg  \n",
            " extracting: datasets/valid/images/pic-137-_jpg.rf.bff62b9998111e40c6aeadfdefec9a47.jpg  \n",
            " extracting: datasets/valid/images/pic-137-_jpg.rf.d3d27e6715d2eb1f4df30d14fa81447d.jpg  \n",
            " extracting: datasets/valid/images/pic-139-_jpg.rf.45ccaaf7678c97c3eac3f827e4b1cc31.jpg  \n",
            " extracting: datasets/valid/images/pic-141-_jpg.rf.468e18b8c2a7ea1c085649873676e5ed.jpg  \n",
            " extracting: datasets/valid/images/pic-142-_jpg.rf.21d43d55102b5559808e95d2aca15cbe.jpg  \n",
            " extracting: datasets/valid/images/pic-146-_jpg.rf.6fc55f3ec0232a4625b5527c17c53f9d.jpg  \n",
            " extracting: datasets/valid/images/pic-149-_jpg.rf.3b15caf3b1a5821c6dfcedf2016591f6.jpg  \n",
            " extracting: datasets/valid/images/pic-15-_jpg.rf.d16a1676bb70b647befb8144013f5d39.jpg  \n",
            " extracting: datasets/valid/images/pic-150-_jpg.rf.c5e6ab6aef4352ac51a87109bc152af6.jpg  \n",
            " extracting: datasets/valid/images/pic-156-_jpg.rf.4215a8cdd829240806d82f1127d675ae.jpg  \n",
            " extracting: datasets/valid/images/pic-163-_jpg.rf.39c0c01594c1ea9a641d9358708c1a1f.jpg  \n",
            " extracting: datasets/valid/images/pic-179-_jpg.rf.f63fd692e792c6b1332ffbb89670a9df.jpg  \n",
            " extracting: datasets/valid/images/pic-186-_jpg.rf.4c23f5e6e5bc032132627ea35000f119.jpg  \n",
            " extracting: datasets/valid/images/pic-187-_jpg.rf.e04dd2f6effa2bc78b7422cf51d28ccd.jpg  \n",
            "   creating: datasets/valid/labels/\n",
            "  inflating: datasets/valid/labels/pic-10-_jpg.rf.db8ff08b96a6ecd833150eebaf4e91f5.txt  \n",
            "  inflating: datasets/valid/labels/pic-102-_jpg.rf.9b6eca517ccc4ac7055de3b9940c52cf.txt  \n",
            "  inflating: datasets/valid/labels/pic-105-_jpg.rf.3a9cb734b378357c2e6b32d3b61f4b66.txt  \n",
            "  inflating: datasets/valid/labels/pic-106-_jpg.rf.d1ddba238a96a89cccb7702b2afe1b53.txt  \n",
            "  inflating: datasets/valid/labels/pic-108-_jpg.rf.3d7ffb95fc9d8a8e5d5435ef25225761.txt  \n",
            "  inflating: datasets/valid/labels/pic-108-_jpg.rf.621ddb9575093f0aac1d86bf5801b7a6.txt  \n",
            "  inflating: datasets/valid/labels/pic-109-_jpg.rf.49822f77cf2cbe73a2015054e769d66a.txt  \n",
            "  inflating: datasets/valid/labels/pic-112-_jpg.rf.e03def3ce5f3d0d3ed2442763f4a8ee0.txt  \n",
            "  inflating: datasets/valid/labels/pic-113-_jpg.rf.e3920bf1524f4dce2a392230ea3f8b2a.txt  \n",
            "  inflating: datasets/valid/labels/pic-117-_jpg.rf.87d09189de2c6418844fa5794caf1516.txt  \n",
            "  inflating: datasets/valid/labels/pic-12-_jpg.rf.2c53f6597430adb467832ad862e4ef91.txt  \n",
            "  inflating: datasets/valid/labels/pic-122-_jpg.rf.49c885296b6c2b0e57e92cc4742215ff.txt  \n",
            "  inflating: datasets/valid/labels/pic-124-_jpg.rf.631ffb7f59e9bfb293e64fcd3789115e.txt  \n",
            "  inflating: datasets/valid/labels/pic-127-_jpg.rf.738ec4956f1e297d4bb539aca45cf979.txt  \n",
            "  inflating: datasets/valid/labels/pic-127-_jpg.rf.9f40f03b5f66aab6bdd589bc3f519fda.txt  \n",
            "  inflating: datasets/valid/labels/pic-128-_jpg.rf.2a38d960e2a64f86b1e586f63bbcf243.txt  \n",
            "  inflating: datasets/valid/labels/pic-128-_jpg.rf.a5b0f15250f475f6de72192b6ea947b6.txt  \n",
            "  inflating: datasets/valid/labels/pic-13-_jpg.rf.015e0458b878bdf4c8dc03a376e59bcd.txt  \n",
            "  inflating: datasets/valid/labels/pic-130-_jpg.rf.c8138f641a72d7b34f1d415b21a2ec10.txt  \n",
            "  inflating: datasets/valid/labels/pic-134-_jpg.rf.1bb79ea287c7f7bd5d247315c402aee9.txt  \n",
            "  inflating: datasets/valid/labels/pic-136-_jpg.rf.db4097f23ad0d8a662940f23a852600e.txt  \n",
            "  inflating: datasets/valid/labels/pic-137-_jpg.rf.bff62b9998111e40c6aeadfdefec9a47.txt  \n",
            "  inflating: datasets/valid/labels/pic-137-_jpg.rf.d3d27e6715d2eb1f4df30d14fa81447d.txt  \n",
            "  inflating: datasets/valid/labels/pic-139-_jpg.rf.45ccaaf7678c97c3eac3f827e4b1cc31.txt  \n",
            "  inflating: datasets/valid/labels/pic-141-_jpg.rf.468e18b8c2a7ea1c085649873676e5ed.txt  \n",
            "  inflating: datasets/valid/labels/pic-142-_jpg.rf.21d43d55102b5559808e95d2aca15cbe.txt  \n",
            "  inflating: datasets/valid/labels/pic-146-_jpg.rf.6fc55f3ec0232a4625b5527c17c53f9d.txt  \n",
            "  inflating: datasets/valid/labels/pic-149-_jpg.rf.3b15caf3b1a5821c6dfcedf2016591f6.txt  \n",
            "  inflating: datasets/valid/labels/pic-15-_jpg.rf.d16a1676bb70b647befb8144013f5d39.txt  \n",
            "  inflating: datasets/valid/labels/pic-150-_jpg.rf.c5e6ab6aef4352ac51a87109bc152af6.txt  \n",
            "  inflating: datasets/valid/labels/pic-156-_jpg.rf.4215a8cdd829240806d82f1127d675ae.txt  \n",
            "  inflating: datasets/valid/labels/pic-163-_jpg.rf.39c0c01594c1ea9a641d9358708c1a1f.txt  \n",
            "  inflating: datasets/valid/labels/pic-179-_jpg.rf.f63fd692e792c6b1332ffbb89670a9df.txt  \n",
            "  inflating: datasets/valid/labels/pic-186-_jpg.rf.4c23f5e6e5bc032132627ea35000f119.txt  \n",
            "  inflating: datasets/valid/labels/pic-187-_jpg.rf.e04dd2f6effa2bc78b7422cf51d28ccd.txt  \n",
            "data.yaml  README.dataset.txt  README.roboflow.txt  test  train  valid\n"
          ]
        }
      ]
    },
    {
      "cell_type": "code",
      "source": [
        "train:'/content/datasets/train/images'\n",
        "val: '/content/datasets/valid'\n",
        "test: '/content/datasets/test'\n",
        "nc: 1\n",
        "names: ['pothole']\n"
      ],
      "metadata": {
        "id": "SU0wK2Qr3dTl"
      },
      "execution_count": null,
      "outputs": []
    },
    {
      "cell_type": "code",
      "source": [
        "import os, glob, yaml\n",
        "\n",
        "# If Step 2 already defined these, keep them. Otherwise, MANUALLY set like:\n",
        "# DATA_ROOT = '/content/datasets/<your-dataset-folder>'      # e.g. '/content/datasets/Potholes-3'\n",
        "# DATA_YAML = f'{DATA_ROOT}/data.yaml'\n",
        "\n",
        "assert os.path.exists('/content/yolo-v8-project-1/data.yaml'), f\"data.yaml not found at {DATA_YAML}\"\n",
        "print(\"----- data.yaml -----\")\n",
        "print(open('/content/yolo-v8-project-1/data.yaml').read())\n",
        "\n",
        "splits = ['train', 'val', 'test']\n",
        "for s in splits:\n",
        "    img_dir = os.path.join('DATA_ROOT', s, 'images')\n",
        "    lab_dir = os.path.join('DATA_ROOT', s, 'labels')\n",
        "    imgs = glob.glob(os.path.join(img_dir, '*'))\n",
        "    labs = glob.glob(os.path.join(lab_dir, '*.txt'))\n",
        "    print(f\"{s:>5}: {len(imgs)} images | {len(labs)} labels -> {img_dir}\")\n"
      ],
      "metadata": {
        "colab": {
          "base_uri": "https://localhost:8080/"
        },
        "id": "JiTFkRGitijE",
        "outputId": "b8cf8f9a-cc99-4e12-f3d4-fffb2b2783dd"
      },
      "execution_count": null,
      "outputs": [
        {
          "output_type": "stream",
          "name": "stdout",
          "text": [
            "----- data.yaml -----\n",
            "names:\n",
            "- Pothole_Segmentation_YOLOv8 - v1 2023-10-20 10-09pm\n",
            "nc: 1\n",
            "roboflow:\n",
            "  license: CC BY 4.0\n",
            "  project: yolo-v8-project-jkmun\n",
            "  url: https://universe.roboflow.com/pothole-pgqso/yolo-v8-project-jkmun/dataset/1\n",
            "  version: 1\n",
            "  workspace: pothole-pgqso\n",
            "test: ../test/images\n",
            "train: ../train/images\n",
            "val: ../valid/images\n",
            "\n",
            "train: 0 images | 0 labels -> DATA_ROOT/train/images\n",
            "  val: 0 images | 0 labels -> DATA_ROOT/val/images\n",
            " test: 0 images | 0 labels -> DATA_ROOT/test/images\n"
          ]
        }
      ]
    },
    {
      "cell_type": "code",
      "source": [],
      "metadata": {
        "id": "TUnfaPYVywvn"
      },
      "execution_count": null,
      "outputs": []
    },
    {
      "cell_type": "code",
      "source": [
        "from ultralytics import YOLO\n",
        "\n",
        "\n",
        "MODEL_NAME = 'pothole_y8s'\n",
        "IMG = 896\n",
        "EPOCHS = 100\n",
        "BATCH = 16\n",
        "\n",
        "\n",
        "model = YOLO('yolov8s.pt') # pretrained weights\n",
        "results = model.train(\n",
        "data=('/content/yolo-v8-project-1/data.yaml'),\n",
        "imgsz=IMG,\n",
        "epochs=EPOCHS,\n",
        "batch=BATCH,\n",
        "name=MODEL_NAME,\n",
        "patience=25, # early stopping\n",
        "device=0 if torch.cuda.is_available() else 'cpu',\n",
        ")\n",
        "\n",
        "\n",
        "print('Training finished. Best weights:')\n",
        "!ls -l /content/runs/detect/$MODEL_NAME/weights"
      ],
      "metadata": {
        "colab": {
          "base_uri": "https://localhost:8080/"
        },
        "collapsed": true,
        "id": "Zouw7jButjOU",
        "outputId": "4eda33c6-a9a6-4c69-8f16-6394b683b17d"
      },
      "execution_count": null,
      "outputs": [
        {
          "output_type": "stream",
          "name": "stdout",
          "text": [
            "Ultralytics 8.3.184 🚀 Python-3.12.11 torch-2.8.0+cu126 CUDA:0 (Tesla T4, 15095MiB)\n",
            "\u001b[34m\u001b[1mengine/trainer: \u001b[0magnostic_nms=False, amp=True, augment=False, auto_augment=randaugment, batch=16, bgr=0.0, box=7.5, cache=False, cfg=None, classes=None, close_mosaic=10, cls=0.5, conf=None, copy_paste=0.0, copy_paste_mode=flip, cos_lr=False, cutmix=0.0, data=/content/yolo-v8-project-1/data.yaml, degrees=0.0, deterministic=True, device=0, dfl=1.5, dnn=False, dropout=0.0, dynamic=False, embed=None, epochs=100, erasing=0.4, exist_ok=False, fliplr=0.5, flipud=0.0, format=torchscript, fraction=1.0, freeze=None, half=False, hsv_h=0.015, hsv_s=0.7, hsv_v=0.4, imgsz=896, int8=False, iou=0.7, keras=False, kobj=1.0, line_width=None, lr0=0.01, lrf=0.01, mask_ratio=4, max_det=300, mixup=0.0, mode=train, model=yolov8s.pt, momentum=0.937, mosaic=1.0, multi_scale=False, name=pothole_y8s, nbs=64, nms=False, opset=None, optimize=False, optimizer=auto, overlap_mask=True, patience=25, perspective=0.0, plots=True, pose=12.0, pretrained=True, profile=False, project=None, rect=False, resume=False, retina_masks=False, save=True, save_conf=False, save_crop=False, save_dir=runs/detect/pothole_y8s, save_frames=False, save_json=False, save_period=-1, save_txt=False, scale=0.5, seed=0, shear=0.0, show=False, show_boxes=True, show_conf=True, show_labels=True, simplify=True, single_cls=False, source=None, split=val, stream_buffer=False, task=detect, time=None, tracker=botsort.yaml, translate=0.1, val=True, verbose=True, vid_stride=1, visualize=False, warmup_bias_lr=0.1, warmup_epochs=3.0, warmup_momentum=0.8, weight_decay=0.0005, workers=8, workspace=None\n"
          ]
        },
        {
          "output_type": "stream",
          "name": "stderr",
          "text": [
            "Downloading https://ultralytics.com/assets/Arial.ttf to '/root/.config/Ultralytics/Arial.ttf': 100%|██████████| 755k/755k [00:00<00:00, 21.5MB/s]"
          ]
        },
        {
          "output_type": "stream",
          "name": "stdout",
          "text": [
            "Overriding model.yaml nc=80 with nc=1\n",
            "\n",
            "                   from  n    params  module                                       arguments                     \n",
            "  0                  -1  1       928  ultralytics.nn.modules.conv.Conv             [3, 32, 3, 2]                 \n",
            "  1                  -1  1     18560  ultralytics.nn.modules.conv.Conv             [32, 64, 3, 2]                \n",
            "  2                  -1  1     29056  ultralytics.nn.modules.block.C2f             [64, 64, 1, True]             \n",
            "  3                  -1  1     73984  ultralytics.nn.modules.conv.Conv             [64, 128, 3, 2]               \n",
            "  4                  -1  2    197632  ultralytics.nn.modules.block.C2f             [128, 128, 2, True]           \n",
            "  5                  -1  1    295424  ultralytics.nn.modules.conv.Conv             [128, 256, 3, 2]              \n",
            "  6                  -1  2    788480  ultralytics.nn.modules.block.C2f             [256, 256, 2, True]           \n",
            "  7                  -1  1   1180672  ultralytics.nn.modules.conv.Conv             [256, 512, 3, 2]              \n",
            "  8                  -1  1   1838080  ultralytics.nn.modules.block.C2f             [512, 512, 1, True]           \n",
            "  9                  -1  1    656896  ultralytics.nn.modules.block.SPPF            [512, 512, 5]                 \n",
            " 10                  -1  1         0  torch.nn.modules.upsampling.Upsample         [None, 2, 'nearest']          \n",
            " 11             [-1, 6]  1         0  ultralytics.nn.modules.conv.Concat           [1]                           \n",
            " 12                  -1  1    591360  ultralytics.nn.modules.block.C2f             [768, 256, 1]                 \n",
            " 13                  -1  1         0  torch.nn.modules.upsampling.Upsample         [None, 2, 'nearest']          \n",
            " 14             [-1, 4]  1         0  ultralytics.nn.modules.conv.Concat           [1]                           \n",
            " 15                  -1  1    148224  ultralytics.nn.modules.block.C2f             [384, 128, 1]                 \n",
            " 16                  -1  1    147712  ultralytics.nn.modules.conv.Conv             [128, 128, 3, 2]              \n",
            " 17            [-1, 12]  1         0  ultralytics.nn.modules.conv.Concat           [1]                           \n",
            " 18                  -1  1    493056  ultralytics.nn.modules.block.C2f             [384, 256, 1]                 \n",
            " 19                  -1  1    590336  ultralytics.nn.modules.conv.Conv             [256, 256, 3, 2]              \n",
            " 20             [-1, 9]  1         0  ultralytics.nn.modules.conv.Concat           [1]                           \n",
            " 21                  -1  1   1969152  ultralytics.nn.modules.block.C2f             [768, 512, 1]                 \n",
            " 22        [15, 18, 21]  1   2116435  ultralytics.nn.modules.head.Detect           [1, [128, 256, 512]]          \n"
          ]
        },
        {
          "output_type": "stream",
          "name": "stderr",
          "text": [
            "\n"
          ]
        },
        {
          "output_type": "stream",
          "name": "stdout",
          "text": [
            "Model summary: 129 layers, 11,135,987 parameters, 11,135,971 gradients, 28.6 GFLOPs\n",
            "\n",
            "Transferred 349/355 items from pretrained weights\n",
            "Freezing layer 'model.22.dfl.conv.weight'\n",
            "\u001b[34m\u001b[1mAMP: \u001b[0mrunning Automatic Mixed Precision (AMP) checks...\n"
          ]
        },
        {
          "output_type": "stream",
          "name": "stderr",
          "text": [
            "Downloading https://github.com/ultralytics/assets/releases/download/v8.3.0/yolo11n.pt to 'yolo11n.pt': 100%|██████████| 5.35M/5.35M [00:00<00:00, 81.4MB/s]\n"
          ]
        },
        {
          "output_type": "stream",
          "name": "stdout",
          "text": [
            "\u001b[34m\u001b[1mAMP: \u001b[0mchecks passed ✅\n",
            "\u001b[34m\u001b[1mtrain: \u001b[0mFast image access ✅ (ping: 0.0±0.0 ms, read: 878.4±508.9 MB/s, size: 73.3 KB)\n"
          ]
        },
        {
          "output_type": "stream",
          "name": "stderr",
          "text": [
            "\u001b[34m\u001b[1mtrain: \u001b[0mScanning /content/yolo-v8-project-1/train/labels... 144 images, 0 backgrounds, 0 corrupt: 100%|██████████| 144/144 [00:00<00:00, 1914.69it/s]"
          ]
        },
        {
          "output_type": "stream",
          "name": "stdout",
          "text": [
            "\u001b[34m\u001b[1mtrain: \u001b[0mNew cache created: /content/yolo-v8-project-1/train/labels.cache\n"
          ]
        },
        {
          "output_type": "stream",
          "name": "stderr",
          "text": [
            "\n"
          ]
        },
        {
          "output_type": "stream",
          "name": "stdout",
          "text": [
            "\u001b[34m\u001b[1malbumentations: \u001b[0mBlur(p=0.01, blur_limit=(3, 7)), MedianBlur(p=0.01, blur_limit=(3, 7)), ToGray(p=0.01, method='weighted_average', num_output_channels=3), CLAHE(p=0.01, clip_limit=(1.0, 4.0), tile_grid_size=(8, 8))\n",
            "\u001b[34m\u001b[1mval: \u001b[0mFast image access ✅ (ping: 0.0±0.0 ms, read: 465.0±191.1 MB/s, size: 58.8 KB)\n"
          ]
        },
        {
          "output_type": "stream",
          "name": "stderr",
          "text": [
            "\u001b[34m\u001b[1mval: \u001b[0mScanning /content/yolo-v8-project-1/valid/labels... 35 images, 0 backgrounds, 0 corrupt: 100%|██████████| 35/35 [00:00<00:00, 799.13it/s]"
          ]
        },
        {
          "output_type": "stream",
          "name": "stdout",
          "text": [
            "\u001b[34m\u001b[1mval: \u001b[0mNew cache created: /content/yolo-v8-project-1/valid/labels.cache\n"
          ]
        },
        {
          "output_type": "stream",
          "name": "stderr",
          "text": [
            "\n"
          ]
        },
        {
          "output_type": "stream",
          "name": "stdout",
          "text": [
            "Plotting labels to runs/detect/pothole_y8s/labels.jpg... \n",
            "\u001b[34m\u001b[1moptimizer:\u001b[0m 'optimizer=auto' found, ignoring 'lr0=0.01' and 'momentum=0.937' and determining best 'optimizer', 'lr0' and 'momentum' automatically... \n",
            "\u001b[34m\u001b[1moptimizer:\u001b[0m AdamW(lr=0.002, momentum=0.9) with parameter groups 57 weight(decay=0.0), 64 weight(decay=0.0005), 63 bias(decay=0.0)\n",
            "Image sizes 896 train, 896 val\n",
            "Using 2 dataloader workers\n",
            "Logging results to \u001b[1mruns/detect/pothole_y8s\u001b[0m\n",
            "Starting training for 100 epochs...\n",
            "\n",
            "      Epoch    GPU_mem   box_loss   cls_loss   dfl_loss  Instances       Size\n"
          ]
        },
        {
          "output_type": "stream",
          "name": "stderr",
          "text": [
            "      1/100      6.68G      1.746      5.296      1.755         83        896: 100%|██████████| 9/9 [00:06<00:00,  1.40it/s]\n",
            "                 Class     Images  Instances      Box(P          R      mAP50  mAP50-95): 100%|██████████| 2/2 [00:02<00:00,  1.02s/it]\n"
          ]
        },
        {
          "output_type": "stream",
          "name": "stdout",
          "text": [
            "                   all         35         94       0.29      0.277       0.18     0.0734\n",
            "\n",
            "      Epoch    GPU_mem   box_loss   cls_loss   dfl_loss  Instances       Size\n"
          ]
        },
        {
          "output_type": "stream",
          "name": "stderr",
          "text": [
            "      2/100      6.75G      1.497      2.623      1.502         63        896: 100%|██████████| 9/9 [00:04<00:00,  1.85it/s]\n",
            "                 Class     Images  Instances      Box(P          R      mAP50  mAP50-95): 100%|██████████| 2/2 [00:00<00:00,  2.58it/s]"
          ]
        },
        {
          "output_type": "stream",
          "name": "stdout",
          "text": [
            "                   all         35         94      0.532      0.351      0.337      0.175\n"
          ]
        },
        {
          "output_type": "stream",
          "name": "stderr",
          "text": [
            "\n"
          ]
        },
        {
          "output_type": "stream",
          "name": "stdout",
          "text": [
            "\n",
            "      Epoch    GPU_mem   box_loss   cls_loss   dfl_loss  Instances       Size\n"
          ]
        },
        {
          "output_type": "stream",
          "name": "stderr",
          "text": [
            "      3/100      6.77G       1.42      2.084      1.494         69        896: 100%|██████████| 9/9 [00:04<00:00,  1.98it/s]\n",
            "                 Class     Images  Instances      Box(P          R      mAP50  mAP50-95): 100%|██████████| 2/2 [00:00<00:00,  2.44it/s]"
          ]
        },
        {
          "output_type": "stream",
          "name": "stdout",
          "text": [
            "                   all         35         94      0.595        0.5      0.466      0.213\n"
          ]
        },
        {
          "output_type": "stream",
          "name": "stderr",
          "text": [
            "\n"
          ]
        },
        {
          "output_type": "stream",
          "name": "stdout",
          "text": [
            "\n",
            "      Epoch    GPU_mem   box_loss   cls_loss   dfl_loss  Instances       Size\n"
          ]
        },
        {
          "output_type": "stream",
          "name": "stderr",
          "text": [
            "      4/100      6.94G      1.386      1.858      1.515         61        896: 100%|██████████| 9/9 [00:04<00:00,  1.97it/s]\n",
            "                 Class     Images  Instances      Box(P          R      mAP50  mAP50-95): 100%|██████████| 2/2 [00:00<00:00,  3.07it/s]"
          ]
        },
        {
          "output_type": "stream",
          "name": "stdout",
          "text": [
            "                   all         35         94       0.62      0.606      0.565      0.282\n"
          ]
        },
        {
          "output_type": "stream",
          "name": "stderr",
          "text": [
            "\n"
          ]
        },
        {
          "output_type": "stream",
          "name": "stdout",
          "text": [
            "\n",
            "      Epoch    GPU_mem   box_loss   cls_loss   dfl_loss  Instances       Size\n"
          ]
        },
        {
          "output_type": "stream",
          "name": "stderr",
          "text": [
            "      5/100      6.68G      1.489      1.786      1.576         49        896: 100%|██████████| 9/9 [00:04<00:00,  2.01it/s]\n",
            "                 Class     Images  Instances      Box(P          R      mAP50  mAP50-95): 100%|██████████| 2/2 [00:00<00:00,  2.95it/s]"
          ]
        },
        {
          "output_type": "stream",
          "name": "stdout",
          "text": [
            "                   all         35         94      0.631      0.394      0.433      0.188\n"
          ]
        },
        {
          "output_type": "stream",
          "name": "stderr",
          "text": [
            "\n"
          ]
        },
        {
          "output_type": "stream",
          "name": "stdout",
          "text": [
            "\n",
            "      Epoch    GPU_mem   box_loss   cls_loss   dfl_loss  Instances       Size\n"
          ]
        },
        {
          "output_type": "stream",
          "name": "stderr",
          "text": [
            "      6/100      6.98G      1.477      1.758      1.523        106        896: 100%|██████████| 9/9 [00:04<00:00,  1.98it/s]\n",
            "                 Class     Images  Instances      Box(P          R      mAP50  mAP50-95): 100%|██████████| 2/2 [00:00<00:00,  3.21it/s]"
          ]
        },
        {
          "output_type": "stream",
          "name": "stdout",
          "text": [
            "                   all         35         94      0.417      0.213      0.259      0.119\n"
          ]
        },
        {
          "output_type": "stream",
          "name": "stderr",
          "text": [
            "\n"
          ]
        },
        {
          "output_type": "stream",
          "name": "stdout",
          "text": [
            "\n",
            "      Epoch    GPU_mem   box_loss   cls_loss   dfl_loss  Instances       Size\n"
          ]
        },
        {
          "output_type": "stream",
          "name": "stderr",
          "text": [
            "      7/100      6.98G      1.466      1.725      1.562         85        896: 100%|██████████| 9/9 [00:04<00:00,  2.04it/s]\n",
            "                 Class     Images  Instances      Box(P          R      mAP50  mAP50-95): 100%|██████████| 2/2 [00:00<00:00,  2.65it/s]\n"
          ]
        },
        {
          "output_type": "stream",
          "name": "stdout",
          "text": [
            "                   all         35         94      0.157      0.138     0.0713     0.0201\n",
            "\n",
            "      Epoch    GPU_mem   box_loss   cls_loss   dfl_loss  Instances       Size\n"
          ]
        },
        {
          "output_type": "stream",
          "name": "stderr",
          "text": [
            "      8/100      6.98G      1.459      1.575      1.564         70        896: 100%|██████████| 9/9 [00:04<00:00,  1.96it/s]\n",
            "                 Class     Images  Instances      Box(P          R      mAP50  mAP50-95): 100%|██████████| 2/2 [00:00<00:00,  2.82it/s]"
          ]
        },
        {
          "output_type": "stream",
          "name": "stdout",
          "text": [
            "                   all         35         94      0.482      0.208      0.234      0.114\n"
          ]
        },
        {
          "output_type": "stream",
          "name": "stderr",
          "text": [
            "\n"
          ]
        },
        {
          "output_type": "stream",
          "name": "stdout",
          "text": [
            "\n",
            "      Epoch    GPU_mem   box_loss   cls_loss   dfl_loss  Instances       Size\n"
          ]
        },
        {
          "output_type": "stream",
          "name": "stderr",
          "text": [
            "      9/100      6.89G      1.432       1.49       1.51         75        896: 100%|██████████| 9/9 [00:04<00:00,  1.99it/s]\n",
            "                 Class     Images  Instances      Box(P          R      mAP50  mAP50-95): 100%|██████████| 2/2 [00:00<00:00,  3.20it/s]"
          ]
        },
        {
          "output_type": "stream",
          "name": "stdout",
          "text": [
            "                   all         35         94     0.0855     0.0957     0.0166    0.00459\n"
          ]
        },
        {
          "output_type": "stream",
          "name": "stderr",
          "text": [
            "\n"
          ]
        },
        {
          "output_type": "stream",
          "name": "stdout",
          "text": [
            "\n",
            "      Epoch    GPU_mem   box_loss   cls_loss   dfl_loss  Instances       Size\n"
          ]
        },
        {
          "output_type": "stream",
          "name": "stderr",
          "text": [
            "     10/100      6.98G      1.508      1.505      1.589         55        896: 100%|██████████| 9/9 [00:04<00:00,  1.93it/s]\n",
            "                 Class     Images  Instances      Box(P          R      mAP50  mAP50-95): 100%|██████████| 2/2 [00:00<00:00,  2.75it/s]"
          ]
        },
        {
          "output_type": "stream",
          "name": "stdout",
          "text": [
            "                   all         35         94     0.0441      0.181     0.0369     0.0109\n"
          ]
        },
        {
          "output_type": "stream",
          "name": "stderr",
          "text": [
            "\n"
          ]
        },
        {
          "output_type": "stream",
          "name": "stdout",
          "text": [
            "\n",
            "      Epoch    GPU_mem   box_loss   cls_loss   dfl_loss  Instances       Size\n"
          ]
        },
        {
          "output_type": "stream",
          "name": "stderr",
          "text": [
            "     11/100      6.76G      1.439      1.509      1.549         88        896: 100%|██████████| 9/9 [00:04<00:00,  2.01it/s]\n",
            "                 Class     Images  Instances      Box(P          R      mAP50  mAP50-95): 100%|██████████| 2/2 [00:00<00:00,  2.90it/s]"
          ]
        },
        {
          "output_type": "stream",
          "name": "stdout",
          "text": [
            "                   all         35         94       0.29      0.362      0.229      0.084\n"
          ]
        },
        {
          "output_type": "stream",
          "name": "stderr",
          "text": [
            "\n"
          ]
        },
        {
          "output_type": "stream",
          "name": "stdout",
          "text": [
            "\n",
            "      Epoch    GPU_mem   box_loss   cls_loss   dfl_loss  Instances       Size\n"
          ]
        },
        {
          "output_type": "stream",
          "name": "stderr",
          "text": [
            "     12/100      6.76G      1.402      1.413      1.455         85        896: 100%|██████████| 9/9 [00:04<00:00,  1.93it/s]\n",
            "                 Class     Images  Instances      Box(P          R      mAP50  mAP50-95): 100%|██████████| 2/2 [00:00<00:00,  2.74it/s]"
          ]
        },
        {
          "output_type": "stream",
          "name": "stdout",
          "text": [
            "                   all         35         94      0.449      0.383       0.35      0.178\n"
          ]
        },
        {
          "output_type": "stream",
          "name": "stderr",
          "text": [
            "\n"
          ]
        },
        {
          "output_type": "stream",
          "name": "stdout",
          "text": [
            "\n",
            "      Epoch    GPU_mem   box_loss   cls_loss   dfl_loss  Instances       Size\n"
          ]
        },
        {
          "output_type": "stream",
          "name": "stderr",
          "text": [
            "     13/100      6.61G      1.415      1.381      1.497         55        896: 100%|██████████| 9/9 [00:04<00:00,  1.97it/s]\n",
            "                 Class     Images  Instances      Box(P          R      mAP50  mAP50-95): 100%|██████████| 2/2 [00:00<00:00,  2.95it/s]"
          ]
        },
        {
          "output_type": "stream",
          "name": "stdout",
          "text": [
            "                   all         35         94      0.168      0.277      0.153     0.0701\n"
          ]
        },
        {
          "output_type": "stream",
          "name": "stderr",
          "text": [
            "\n"
          ]
        },
        {
          "output_type": "stream",
          "name": "stdout",
          "text": [
            "\n",
            "      Epoch    GPU_mem   box_loss   cls_loss   dfl_loss  Instances       Size\n"
          ]
        },
        {
          "output_type": "stream",
          "name": "stderr",
          "text": [
            "     14/100      6.71G      1.458      1.392      1.487         84        896: 100%|██████████| 9/9 [00:05<00:00,  1.78it/s]\n",
            "                 Class     Images  Instances      Box(P          R      mAP50  mAP50-95): 100%|██████████| 2/2 [00:00<00:00,  2.48it/s]"
          ]
        },
        {
          "output_type": "stream",
          "name": "stdout",
          "text": [
            "                   all         35         94      0.432      0.298      0.248      0.102\n"
          ]
        },
        {
          "output_type": "stream",
          "name": "stderr",
          "text": [
            "\n"
          ]
        },
        {
          "output_type": "stream",
          "name": "stdout",
          "text": [
            "\n",
            "      Epoch    GPU_mem   box_loss   cls_loss   dfl_loss  Instances       Size\n"
          ]
        },
        {
          "output_type": "stream",
          "name": "stderr",
          "text": [
            "     15/100      6.77G      1.405      1.371      1.487         82        896: 100%|██████████| 9/9 [00:04<00:00,  1.95it/s]\n",
            "                 Class     Images  Instances      Box(P          R      mAP50  mAP50-95): 100%|██████████| 2/2 [00:00<00:00,  3.01it/s]"
          ]
        },
        {
          "output_type": "stream",
          "name": "stdout",
          "text": [
            "                   all         35         94      0.307      0.415      0.275      0.126\n"
          ]
        },
        {
          "output_type": "stream",
          "name": "stderr",
          "text": [
            "\n"
          ]
        },
        {
          "output_type": "stream",
          "name": "stdout",
          "text": [
            "\n",
            "      Epoch    GPU_mem   box_loss   cls_loss   dfl_loss  Instances       Size\n"
          ]
        },
        {
          "output_type": "stream",
          "name": "stderr",
          "text": [
            "     16/100      6.71G      1.387      1.332      1.439        100        896: 100%|██████████| 9/9 [00:04<00:00,  1.82it/s]\n",
            "                 Class     Images  Instances      Box(P          R      mAP50  mAP50-95): 100%|██████████| 2/2 [00:00<00:00,  2.82it/s]"
          ]
        },
        {
          "output_type": "stream",
          "name": "stdout",
          "text": [
            "                   all         35         94      0.319      0.351       0.26      0.112\n"
          ]
        },
        {
          "output_type": "stream",
          "name": "stderr",
          "text": [
            "\n"
          ]
        },
        {
          "output_type": "stream",
          "name": "stdout",
          "text": [
            "\n",
            "      Epoch    GPU_mem   box_loss   cls_loss   dfl_loss  Instances       Size\n"
          ]
        },
        {
          "output_type": "stream",
          "name": "stderr",
          "text": [
            "     17/100      6.92G      1.374      1.332      1.466         78        896: 100%|██████████| 9/9 [00:04<00:00,  1.94it/s]\n",
            "                 Class     Images  Instances      Box(P          R      mAP50  mAP50-95): 100%|██████████| 2/2 [00:00<00:00,  3.64it/s]"
          ]
        },
        {
          "output_type": "stream",
          "name": "stdout",
          "text": [
            "                   all         35         94      0.433      0.266      0.221      0.118\n"
          ]
        },
        {
          "output_type": "stream",
          "name": "stderr",
          "text": [
            "\n"
          ]
        },
        {
          "output_type": "stream",
          "name": "stdout",
          "text": [
            "\n",
            "      Epoch    GPU_mem   box_loss   cls_loss   dfl_loss  Instances       Size\n"
          ]
        },
        {
          "output_type": "stream",
          "name": "stderr",
          "text": [
            "     18/100      6.71G      1.351      1.322      1.466         67        896: 100%|██████████| 9/9 [00:04<00:00,  1.86it/s]\n",
            "                 Class     Images  Instances      Box(P          R      mAP50  mAP50-95): 100%|██████████| 2/2 [00:00<00:00,  3.05it/s]"
          ]
        },
        {
          "output_type": "stream",
          "name": "stdout",
          "text": [
            "                   all         35         94      0.543      0.457      0.503      0.267\n"
          ]
        },
        {
          "output_type": "stream",
          "name": "stderr",
          "text": [
            "\n"
          ]
        },
        {
          "output_type": "stream",
          "name": "stdout",
          "text": [
            "\n",
            "      Epoch    GPU_mem   box_loss   cls_loss   dfl_loss  Instances       Size\n"
          ]
        },
        {
          "output_type": "stream",
          "name": "stderr",
          "text": [
            "     19/100       6.7G      1.331      1.305      1.483         53        896: 100%|██████████| 9/9 [00:04<00:00,  1.98it/s]\n",
            "                 Class     Images  Instances      Box(P          R      mAP50  mAP50-95): 100%|██████████| 2/2 [00:00<00:00,  3.12it/s]"
          ]
        },
        {
          "output_type": "stream",
          "name": "stdout",
          "text": [
            "                   all         35         94      0.655      0.553      0.603      0.309\n"
          ]
        },
        {
          "output_type": "stream",
          "name": "stderr",
          "text": [
            "\n"
          ]
        },
        {
          "output_type": "stream",
          "name": "stdout",
          "text": [
            "\n",
            "      Epoch    GPU_mem   box_loss   cls_loss   dfl_loss  Instances       Size\n"
          ]
        },
        {
          "output_type": "stream",
          "name": "stderr",
          "text": [
            "     20/100      6.67G      1.268      1.194      1.391         71        896: 100%|██████████| 9/9 [00:04<00:00,  1.86it/s]\n",
            "                 Class     Images  Instances      Box(P          R      mAP50  mAP50-95): 100%|██████████| 2/2 [00:00<00:00,  2.59it/s]"
          ]
        },
        {
          "output_type": "stream",
          "name": "stdout",
          "text": [
            "                   all         35         94      0.556      0.468      0.494      0.243\n"
          ]
        },
        {
          "output_type": "stream",
          "name": "stderr",
          "text": [
            "\n"
          ]
        },
        {
          "output_type": "stream",
          "name": "stdout",
          "text": [
            "\n",
            "      Epoch    GPU_mem   box_loss   cls_loss   dfl_loss  Instances       Size\n"
          ]
        },
        {
          "output_type": "stream",
          "name": "stderr",
          "text": [
            "     21/100       6.7G       1.36      1.288      1.441         59        896: 100%|██████████| 9/9 [00:04<00:00,  1.97it/s]\n",
            "                 Class     Images  Instances      Box(P          R      mAP50  mAP50-95): 100%|██████████| 2/2 [00:00<00:00,  3.13it/s]"
          ]
        },
        {
          "output_type": "stream",
          "name": "stdout",
          "text": [
            "                   all         35         94      0.729      0.372      0.481      0.227\n"
          ]
        },
        {
          "output_type": "stream",
          "name": "stderr",
          "text": [
            "\n"
          ]
        },
        {
          "output_type": "stream",
          "name": "stdout",
          "text": [
            "\n",
            "      Epoch    GPU_mem   box_loss   cls_loss   dfl_loss  Instances       Size\n"
          ]
        },
        {
          "output_type": "stream",
          "name": "stderr",
          "text": [
            "     22/100       6.7G       1.28      1.205      1.436         60        896: 100%|██████████| 9/9 [00:04<00:00,  1.88it/s]\n",
            "                 Class     Images  Instances      Box(P          R      mAP50  mAP50-95): 100%|██████████| 2/2 [00:00<00:00,  2.46it/s]"
          ]
        },
        {
          "output_type": "stream",
          "name": "stdout",
          "text": [
            "                   all         35         94      0.572      0.298       0.33      0.162\n"
          ]
        },
        {
          "output_type": "stream",
          "name": "stderr",
          "text": [
            "\n"
          ]
        },
        {
          "output_type": "stream",
          "name": "stdout",
          "text": [
            "\n",
            "      Epoch    GPU_mem   box_loss   cls_loss   dfl_loss  Instances       Size\n"
          ]
        },
        {
          "output_type": "stream",
          "name": "stderr",
          "text": [
            "     23/100      6.71G      1.241      1.153      1.392         73        896: 100%|██████████| 9/9 [00:04<00:00,  1.98it/s]\n",
            "                 Class     Images  Instances      Box(P          R      mAP50  mAP50-95): 100%|██████████| 2/2 [00:00<00:00,  2.85it/s]"
          ]
        },
        {
          "output_type": "stream",
          "name": "stdout",
          "text": [
            "                   all         35         94      0.622       0.28      0.361      0.193\n"
          ]
        },
        {
          "output_type": "stream",
          "name": "stderr",
          "text": [
            "\n"
          ]
        },
        {
          "output_type": "stream",
          "name": "stdout",
          "text": [
            "\n",
            "      Epoch    GPU_mem   box_loss   cls_loss   dfl_loss  Instances       Size\n"
          ]
        },
        {
          "output_type": "stream",
          "name": "stderr",
          "text": [
            "     24/100      6.71G      1.252      1.171      1.375         67        896: 100%|██████████| 9/9 [00:04<00:00,  1.87it/s]\n",
            "                 Class     Images  Instances      Box(P          R      mAP50  mAP50-95): 100%|██████████| 2/2 [00:00<00:00,  2.70it/s]"
          ]
        },
        {
          "output_type": "stream",
          "name": "stdout",
          "text": [
            "                   all         35         94      0.666      0.468      0.495      0.283\n"
          ]
        },
        {
          "output_type": "stream",
          "name": "stderr",
          "text": [
            "\n"
          ]
        },
        {
          "output_type": "stream",
          "name": "stdout",
          "text": [
            "\n",
            "      Epoch    GPU_mem   box_loss   cls_loss   dfl_loss  Instances       Size\n"
          ]
        },
        {
          "output_type": "stream",
          "name": "stderr",
          "text": [
            "     25/100      6.97G      1.218       1.08      1.333        115        896: 100%|██████████| 9/9 [00:04<00:00,  1.97it/s]\n",
            "                 Class     Images  Instances      Box(P          R      mAP50  mAP50-95): 100%|██████████| 2/2 [00:00<00:00,  3.19it/s]"
          ]
        },
        {
          "output_type": "stream",
          "name": "stdout",
          "text": [
            "                   all         35         94      0.642      0.585      0.609      0.359\n"
          ]
        },
        {
          "output_type": "stream",
          "name": "stderr",
          "text": [
            "\n"
          ]
        },
        {
          "output_type": "stream",
          "name": "stdout",
          "text": [
            "\n",
            "      Epoch    GPU_mem   box_loss   cls_loss   dfl_loss  Instances       Size\n"
          ]
        },
        {
          "output_type": "stream",
          "name": "stderr",
          "text": [
            "     26/100      6.76G      1.146      1.065      1.311         72        896: 100%|██████████| 9/9 [00:04<00:00,  1.87it/s]\n",
            "                 Class     Images  Instances      Box(P          R      mAP50  mAP50-95): 100%|██████████| 2/2 [00:00<00:00,  2.56it/s]"
          ]
        },
        {
          "output_type": "stream",
          "name": "stdout",
          "text": [
            "                   all         35         94       0.65      0.628      0.621      0.338\n"
          ]
        },
        {
          "output_type": "stream",
          "name": "stderr",
          "text": [
            "\n"
          ]
        },
        {
          "output_type": "stream",
          "name": "stdout",
          "text": [
            "\n",
            "      Epoch    GPU_mem   box_loss   cls_loss   dfl_loss  Instances       Size\n"
          ]
        },
        {
          "output_type": "stream",
          "name": "stderr",
          "text": [
            "     27/100      6.72G      1.128      1.037      1.316         50        896: 100%|██████████| 9/9 [00:04<00:00,  1.97it/s]\n",
            "                 Class     Images  Instances      Box(P          R      mAP50  mAP50-95): 100%|██████████| 2/2 [00:00<00:00,  3.08it/s]"
          ]
        },
        {
          "output_type": "stream",
          "name": "stdout",
          "text": [
            "                   all         35         94      0.844       0.69      0.766       0.44\n"
          ]
        },
        {
          "output_type": "stream",
          "name": "stderr",
          "text": [
            "\n"
          ]
        },
        {
          "output_type": "stream",
          "name": "stdout",
          "text": [
            "\n",
            "      Epoch    GPU_mem   box_loss   cls_loss   dfl_loss  Instances       Size\n"
          ]
        },
        {
          "output_type": "stream",
          "name": "stderr",
          "text": [
            "     28/100      6.76G      1.164      1.031      1.294         82        896: 100%|██████████| 9/9 [00:04<00:00,  1.87it/s]\n",
            "                 Class     Images  Instances      Box(P          R      mAP50  mAP50-95): 100%|██████████| 2/2 [00:00<00:00,  2.48it/s]"
          ]
        },
        {
          "output_type": "stream",
          "name": "stdout",
          "text": [
            "                   all         35         94      0.746      0.532      0.623      0.386\n"
          ]
        },
        {
          "output_type": "stream",
          "name": "stderr",
          "text": [
            "\n"
          ]
        },
        {
          "output_type": "stream",
          "name": "stdout",
          "text": [
            "\n",
            "      Epoch    GPU_mem   box_loss   cls_loss   dfl_loss  Instances       Size\n"
          ]
        },
        {
          "output_type": "stream",
          "name": "stderr",
          "text": [
            "     29/100       6.7G      1.134      1.034      1.288         60        896: 100%|██████████| 9/9 [00:04<00:00,  1.98it/s]\n",
            "                 Class     Images  Instances      Box(P          R      mAP50  mAP50-95): 100%|██████████| 2/2 [00:00<00:00,  3.35it/s]"
          ]
        },
        {
          "output_type": "stream",
          "name": "stdout",
          "text": [
            "                   all         35         94      0.758      0.585       0.63      0.394\n"
          ]
        },
        {
          "output_type": "stream",
          "name": "stderr",
          "text": [
            "\n"
          ]
        },
        {
          "output_type": "stream",
          "name": "stdout",
          "text": [
            "\n",
            "      Epoch    GPU_mem   box_loss   cls_loss   dfl_loss  Instances       Size\n"
          ]
        },
        {
          "output_type": "stream",
          "name": "stderr",
          "text": [
            "     30/100       6.7G      1.131     0.9911      1.296         96        896: 100%|██████████| 9/9 [00:04<00:00,  1.93it/s]\n",
            "                 Class     Images  Instances      Box(P          R      mAP50  mAP50-95): 100%|██████████| 2/2 [00:00<00:00,  2.09it/s]"
          ]
        },
        {
          "output_type": "stream",
          "name": "stdout",
          "text": [
            "                   all         35         94      0.761      0.585      0.666      0.414\n"
          ]
        },
        {
          "output_type": "stream",
          "name": "stderr",
          "text": [
            "\n"
          ]
        },
        {
          "output_type": "stream",
          "name": "stdout",
          "text": [
            "\n",
            "      Epoch    GPU_mem   box_loss   cls_loss   dfl_loss  Instances       Size\n"
          ]
        },
        {
          "output_type": "stream",
          "name": "stderr",
          "text": [
            "     31/100      6.75G      1.165      1.061      1.341         52        896: 100%|██████████| 9/9 [00:04<00:00,  1.98it/s]\n",
            "                 Class     Images  Instances      Box(P          R      mAP50  mAP50-95): 100%|██████████| 2/2 [00:00<00:00,  3.08it/s]"
          ]
        },
        {
          "output_type": "stream",
          "name": "stdout",
          "text": [
            "                   all         35         94      0.827      0.663      0.738      0.455\n"
          ]
        },
        {
          "output_type": "stream",
          "name": "stderr",
          "text": [
            "\n"
          ]
        },
        {
          "output_type": "stream",
          "name": "stdout",
          "text": [
            "\n",
            "      Epoch    GPU_mem   box_loss   cls_loss   dfl_loss  Instances       Size\n"
          ]
        },
        {
          "output_type": "stream",
          "name": "stderr",
          "text": [
            "     32/100      6.67G      1.144      1.005      1.318         70        896: 100%|██████████| 9/9 [00:04<00:00,  1.89it/s]\n",
            "                 Class     Images  Instances      Box(P          R      mAP50  mAP50-95): 100%|██████████| 2/2 [00:01<00:00,  1.89it/s]"
          ]
        },
        {
          "output_type": "stream",
          "name": "stdout",
          "text": [
            "                   all         35         94      0.745      0.745      0.739       0.44\n"
          ]
        },
        {
          "output_type": "stream",
          "name": "stderr",
          "text": [
            "\n"
          ]
        },
        {
          "output_type": "stream",
          "name": "stdout",
          "text": [
            "\n",
            "      Epoch    GPU_mem   box_loss   cls_loss   dfl_loss  Instances       Size\n"
          ]
        },
        {
          "output_type": "stream",
          "name": "stderr",
          "text": [
            "     33/100      7.02G      1.123     0.9579      1.285         85        896: 100%|██████████| 9/9 [00:04<00:00,  1.97it/s]\n",
            "                 Class     Images  Instances      Box(P          R      mAP50  mAP50-95): 100%|██████████| 2/2 [00:00<00:00,  3.67it/s]"
          ]
        },
        {
          "output_type": "stream",
          "name": "stdout",
          "text": [
            "                   all         35         94      0.653        0.7      0.726      0.455\n"
          ]
        },
        {
          "output_type": "stream",
          "name": "stderr",
          "text": [
            "\n"
          ]
        },
        {
          "output_type": "stream",
          "name": "stdout",
          "text": [
            "\n",
            "      Epoch    GPU_mem   box_loss   cls_loss   dfl_loss  Instances       Size\n"
          ]
        },
        {
          "output_type": "stream",
          "name": "stderr",
          "text": [
            "     34/100      6.64G      1.092     0.9814      1.294         56        896: 100%|██████████| 9/9 [00:04<00:00,  1.93it/s]\n",
            "                 Class     Images  Instances      Box(P          R      mAP50  mAP50-95): 100%|██████████| 2/2 [00:00<00:00,  2.05it/s]"
          ]
        },
        {
          "output_type": "stream",
          "name": "stdout",
          "text": [
            "                   all         35         94      0.694      0.723      0.726      0.456\n"
          ]
        },
        {
          "output_type": "stream",
          "name": "stderr",
          "text": [
            "\n"
          ]
        },
        {
          "output_type": "stream",
          "name": "stdout",
          "text": [
            "\n",
            "      Epoch    GPU_mem   box_loss   cls_loss   dfl_loss  Instances       Size\n"
          ]
        },
        {
          "output_type": "stream",
          "name": "stderr",
          "text": [
            "     35/100      6.62G      1.071     0.9479      1.251        102        896: 100%|██████████| 9/9 [00:04<00:00,  1.98it/s]\n",
            "                 Class     Images  Instances      Box(P          R      mAP50  mAP50-95): 100%|██████████| 2/2 [00:00<00:00,  3.48it/s]"
          ]
        },
        {
          "output_type": "stream",
          "name": "stdout",
          "text": [
            "                   all         35         94       0.84      0.745      0.824      0.504\n"
          ]
        },
        {
          "output_type": "stream",
          "name": "stderr",
          "text": [
            "\n"
          ]
        },
        {
          "output_type": "stream",
          "name": "stdout",
          "text": [
            "\n",
            "      Epoch    GPU_mem   box_loss   cls_loss   dfl_loss  Instances       Size\n"
          ]
        },
        {
          "output_type": "stream",
          "name": "stderr",
          "text": [
            "     36/100      6.66G      1.098     0.9432      1.278         71        896: 100%|██████████| 9/9 [00:04<00:00,  1.92it/s]\n",
            "                 Class     Images  Instances      Box(P          R      mAP50  mAP50-95): 100%|██████████| 2/2 [00:00<00:00,  2.22it/s]"
          ]
        },
        {
          "output_type": "stream",
          "name": "stdout",
          "text": [
            "                   all         35         94      0.764      0.766      0.788      0.489\n"
          ]
        },
        {
          "output_type": "stream",
          "name": "stderr",
          "text": [
            "\n"
          ]
        },
        {
          "output_type": "stream",
          "name": "stdout",
          "text": [
            "\n",
            "      Epoch    GPU_mem   box_loss   cls_loss   dfl_loss  Instances       Size\n"
          ]
        },
        {
          "output_type": "stream",
          "name": "stderr",
          "text": [
            "     37/100      6.73G      1.033     0.8873      1.224         95        896: 100%|██████████| 9/9 [00:04<00:00,  1.95it/s]\n",
            "                 Class     Images  Instances      Box(P          R      mAP50  mAP50-95): 100%|██████████| 2/2 [00:00<00:00,  2.85it/s]"
          ]
        },
        {
          "output_type": "stream",
          "name": "stdout",
          "text": [
            "                   all         35         94      0.868      0.632      0.773      0.493\n"
          ]
        },
        {
          "output_type": "stream",
          "name": "stderr",
          "text": [
            "\n"
          ]
        },
        {
          "output_type": "stream",
          "name": "stdout",
          "text": [
            "\n",
            "      Epoch    GPU_mem   box_loss   cls_loss   dfl_loss  Instances       Size\n"
          ]
        },
        {
          "output_type": "stream",
          "name": "stderr",
          "text": [
            "     38/100      6.64G      1.038     0.8384      1.219         85        896: 100%|██████████| 9/9 [00:04<00:00,  1.94it/s]\n",
            "                 Class     Images  Instances      Box(P          R      mAP50  mAP50-95): 100%|██████████| 2/2 [00:00<00:00,  2.12it/s]"
          ]
        },
        {
          "output_type": "stream",
          "name": "stdout",
          "text": [
            "                   all         35         94       0.82       0.68      0.754      0.461\n"
          ]
        },
        {
          "output_type": "stream",
          "name": "stderr",
          "text": [
            "\n"
          ]
        },
        {
          "output_type": "stream",
          "name": "stdout",
          "text": [
            "\n",
            "      Epoch    GPU_mem   box_loss   cls_loss   dfl_loss  Instances       Size\n"
          ]
        },
        {
          "output_type": "stream",
          "name": "stderr",
          "text": [
            "     39/100      6.63G      1.028     0.8926      1.231         52        896: 100%|██████████| 9/9 [00:04<00:00,  1.99it/s]\n",
            "                 Class     Images  Instances      Box(P          R      mAP50  mAP50-95): 100%|██████████| 2/2 [00:00<00:00,  3.48it/s]"
          ]
        },
        {
          "output_type": "stream",
          "name": "stdout",
          "text": [
            "                   all         35         94      0.805      0.571      0.668      0.404\n"
          ]
        },
        {
          "output_type": "stream",
          "name": "stderr",
          "text": [
            "\n"
          ]
        },
        {
          "output_type": "stream",
          "name": "stdout",
          "text": [
            "\n",
            "      Epoch    GPU_mem   box_loss   cls_loss   dfl_loss  Instances       Size\n"
          ]
        },
        {
          "output_type": "stream",
          "name": "stderr",
          "text": [
            "     40/100      6.74G      1.077     0.9047      1.281         65        896: 100%|██████████| 9/9 [00:04<00:00,  1.90it/s]\n",
            "                 Class     Images  Instances      Box(P          R      mAP50  mAP50-95): 100%|██████████| 2/2 [00:01<00:00,  1.93it/s]"
          ]
        },
        {
          "output_type": "stream",
          "name": "stdout",
          "text": [
            "                   all         35         94       0.81      0.771       0.82      0.496\n"
          ]
        },
        {
          "output_type": "stream",
          "name": "stderr",
          "text": [
            "\n"
          ]
        },
        {
          "output_type": "stream",
          "name": "stdout",
          "text": [
            "\n",
            "      Epoch    GPU_mem   box_loss   cls_loss   dfl_loss  Instances       Size\n"
          ]
        },
        {
          "output_type": "stream",
          "name": "stderr",
          "text": [
            "     41/100      6.89G      1.085     0.9032      1.233         77        896: 100%|██████████| 9/9 [00:04<00:00,  1.87it/s]\n",
            "                 Class     Images  Instances      Box(P          R      mAP50  mAP50-95): 100%|██████████| 2/2 [00:00<00:00,  2.90it/s]"
          ]
        },
        {
          "output_type": "stream",
          "name": "stdout",
          "text": [
            "                   all         35         94      0.834      0.749      0.841      0.493\n"
          ]
        },
        {
          "output_type": "stream",
          "name": "stderr",
          "text": [
            "\n"
          ]
        },
        {
          "output_type": "stream",
          "name": "stdout",
          "text": [
            "\n",
            "      Epoch    GPU_mem   box_loss   cls_loss   dfl_loss  Instances       Size\n"
          ]
        },
        {
          "output_type": "stream",
          "name": "stderr",
          "text": [
            "     42/100      6.67G      1.071     0.9105      1.275         96        896: 100%|██████████| 9/9 [00:04<00:00,  1.89it/s]\n",
            "                 Class     Images  Instances      Box(P          R      mAP50  mAP50-95): 100%|██████████| 2/2 [00:00<00:00,  2.11it/s]"
          ]
        },
        {
          "output_type": "stream",
          "name": "stdout",
          "text": [
            "                   all         35         94      0.876      0.755      0.856      0.493\n"
          ]
        },
        {
          "output_type": "stream",
          "name": "stderr",
          "text": [
            "\n"
          ]
        },
        {
          "output_type": "stream",
          "name": "stdout",
          "text": [
            "\n",
            "      Epoch    GPU_mem   box_loss   cls_loss   dfl_loss  Instances       Size\n"
          ]
        },
        {
          "output_type": "stream",
          "name": "stderr",
          "text": [
            "     43/100      6.62G      1.012     0.8481      1.236         63        896: 100%|██████████| 9/9 [00:04<00:00,  1.83it/s]\n",
            "                 Class     Images  Instances      Box(P          R      mAP50  mAP50-95): 100%|██████████| 2/2 [00:00<00:00,  3.13it/s]"
          ]
        },
        {
          "output_type": "stream",
          "name": "stdout",
          "text": [
            "                   all         35         94      0.815      0.723      0.828      0.501\n"
          ]
        },
        {
          "output_type": "stream",
          "name": "stderr",
          "text": [
            "\n"
          ]
        },
        {
          "output_type": "stream",
          "name": "stdout",
          "text": [
            "\n",
            "      Epoch    GPU_mem   box_loss   cls_loss   dfl_loss  Instances       Size\n"
          ]
        },
        {
          "output_type": "stream",
          "name": "stderr",
          "text": [
            "     44/100      6.71G      1.048     0.8773       1.25         60        896: 100%|██████████| 9/9 [00:04<00:00,  1.85it/s]\n",
            "                 Class     Images  Instances      Box(P          R      mAP50  mAP50-95): 100%|██████████| 2/2 [00:00<00:00,  2.09it/s]"
          ]
        },
        {
          "output_type": "stream",
          "name": "stdout",
          "text": [
            "                   all         35         94      0.762      0.745      0.801      0.475\n"
          ]
        },
        {
          "output_type": "stream",
          "name": "stderr",
          "text": [
            "\n"
          ]
        },
        {
          "output_type": "stream",
          "name": "stdout",
          "text": [
            "\n",
            "      Epoch    GPU_mem   box_loss   cls_loss   dfl_loss  Instances       Size\n"
          ]
        },
        {
          "output_type": "stream",
          "name": "stderr",
          "text": [
            "     45/100      7.03G      0.993     0.8353      1.228        112        896: 100%|██████████| 9/9 [00:04<00:00,  1.98it/s]\n",
            "                 Class     Images  Instances      Box(P          R      mAP50  mAP50-95): 100%|██████████| 2/2 [00:00<00:00,  2.85it/s]"
          ]
        },
        {
          "output_type": "stream",
          "name": "stdout",
          "text": [
            "                   all         35         94      0.808      0.804      0.838      0.542\n"
          ]
        },
        {
          "output_type": "stream",
          "name": "stderr",
          "text": [
            "\n"
          ]
        },
        {
          "output_type": "stream",
          "name": "stdout",
          "text": [
            "\n",
            "      Epoch    GPU_mem   box_loss   cls_loss   dfl_loss  Instances       Size\n"
          ]
        },
        {
          "output_type": "stream",
          "name": "stderr",
          "text": [
            "     46/100      6.63G     0.9755     0.7723      1.197         79        896: 100%|██████████| 9/9 [00:04<00:00,  1.89it/s]\n",
            "                 Class     Images  Instances      Box(P          R      mAP50  mAP50-95): 100%|██████████| 2/2 [00:01<00:00,  1.89it/s]"
          ]
        },
        {
          "output_type": "stream",
          "name": "stdout",
          "text": [
            "                   all         35         94      0.812       0.84      0.835      0.545\n"
          ]
        },
        {
          "output_type": "stream",
          "name": "stderr",
          "text": [
            "\n"
          ]
        },
        {
          "output_type": "stream",
          "name": "stdout",
          "text": [
            "\n",
            "      Epoch    GPU_mem   box_loss   cls_loss   dfl_loss  Instances       Size\n"
          ]
        },
        {
          "output_type": "stream",
          "name": "stderr",
          "text": [
            "     47/100      6.72G     0.9149      0.732      1.151         81        896: 100%|██████████| 9/9 [00:04<00:00,  1.99it/s]\n",
            "                 Class     Images  Instances      Box(P          R      mAP50  mAP50-95): 100%|██████████| 2/2 [00:00<00:00,  3.17it/s]"
          ]
        },
        {
          "output_type": "stream",
          "name": "stdout",
          "text": [
            "                   all         35         94      0.871      0.809      0.867      0.574\n"
          ]
        },
        {
          "output_type": "stream",
          "name": "stderr",
          "text": [
            "\n"
          ]
        },
        {
          "output_type": "stream",
          "name": "stdout",
          "text": [
            "\n",
            "      Epoch    GPU_mem   box_loss   cls_loss   dfl_loss  Instances       Size\n"
          ]
        },
        {
          "output_type": "stream",
          "name": "stderr",
          "text": [
            "     48/100      6.77G     0.9461     0.7132      1.156         77        896: 100%|██████████| 9/9 [00:05<00:00,  1.80it/s]\n",
            "                 Class     Images  Instances      Box(P          R      mAP50  mAP50-95): 100%|██████████| 2/2 [00:00<00:00,  2.00it/s]"
          ]
        },
        {
          "output_type": "stream",
          "name": "stdout",
          "text": [
            "                   all         35         94      0.888      0.762      0.865      0.551\n"
          ]
        },
        {
          "output_type": "stream",
          "name": "stderr",
          "text": [
            "\n"
          ]
        },
        {
          "output_type": "stream",
          "name": "stdout",
          "text": [
            "\n",
            "      Epoch    GPU_mem   box_loss   cls_loss   dfl_loss  Instances       Size\n"
          ]
        },
        {
          "output_type": "stream",
          "name": "stderr",
          "text": [
            "     49/100       6.6G     0.9559     0.7578      1.183         52        896: 100%|██████████| 9/9 [00:04<00:00,  1.92it/s]\n",
            "                 Class     Images  Instances      Box(P          R      mAP50  mAP50-95): 100%|██████████| 2/2 [00:00<00:00,  3.34it/s]"
          ]
        },
        {
          "output_type": "stream",
          "name": "stdout",
          "text": [
            "                   all         35         94       0.86      0.755      0.866      0.565\n"
          ]
        },
        {
          "output_type": "stream",
          "name": "stderr",
          "text": [
            "\n"
          ]
        },
        {
          "output_type": "stream",
          "name": "stdout",
          "text": [
            "\n",
            "      Epoch    GPU_mem   box_loss   cls_loss   dfl_loss  Instances       Size\n"
          ]
        },
        {
          "output_type": "stream",
          "name": "stderr",
          "text": [
            "     50/100      6.71G     0.9492     0.7645      1.183         58        896: 100%|██████████| 9/9 [00:04<00:00,  1.90it/s]\n",
            "                 Class     Images  Instances      Box(P          R      mAP50  mAP50-95): 100%|██████████| 2/2 [00:00<00:00,  2.17it/s]"
          ]
        },
        {
          "output_type": "stream",
          "name": "stdout",
          "text": [
            "                   all         35         94      0.871      0.702      0.848      0.545\n"
          ]
        },
        {
          "output_type": "stream",
          "name": "stderr",
          "text": [
            "\n"
          ]
        },
        {
          "output_type": "stream",
          "name": "stdout",
          "text": [
            "\n",
            "      Epoch    GPU_mem   box_loss   cls_loss   dfl_loss  Instances       Size\n"
          ]
        },
        {
          "output_type": "stream",
          "name": "stderr",
          "text": [
            "     51/100      6.62G     0.9024     0.7338      1.165         58        896: 100%|██████████| 9/9 [00:04<00:00,  1.90it/s]\n",
            "                 Class     Images  Instances      Box(P          R      mAP50  mAP50-95): 100%|██████████| 2/2 [00:00<00:00,  2.61it/s]"
          ]
        },
        {
          "output_type": "stream",
          "name": "stdout",
          "text": [
            "                   all         35         94      0.761      0.815      0.839      0.545\n"
          ]
        },
        {
          "output_type": "stream",
          "name": "stderr",
          "text": [
            "\n"
          ]
        },
        {
          "output_type": "stream",
          "name": "stdout",
          "text": [
            "\n",
            "      Epoch    GPU_mem   box_loss   cls_loss   dfl_loss  Instances       Size\n"
          ]
        },
        {
          "output_type": "stream",
          "name": "stderr",
          "text": [
            "     52/100      6.68G     0.9041     0.7296      1.159         69        896: 100%|██████████| 9/9 [00:04<00:00,  1.81it/s]\n",
            "                 Class     Images  Instances      Box(P          R      mAP50  mAP50-95): 100%|██████████| 2/2 [00:00<00:00,  2.45it/s]"
          ]
        },
        {
          "output_type": "stream",
          "name": "stdout",
          "text": [
            "                   all         35         94       0.77      0.819      0.832      0.536\n"
          ]
        },
        {
          "output_type": "stream",
          "name": "stderr",
          "text": [
            "\n"
          ]
        },
        {
          "output_type": "stream",
          "name": "stdout",
          "text": [
            "\n",
            "      Epoch    GPU_mem   box_loss   cls_loss   dfl_loss  Instances       Size\n"
          ]
        },
        {
          "output_type": "stream",
          "name": "stderr",
          "text": [
            "     53/100      6.69G     0.9269     0.7076      1.161         76        896: 100%|██████████| 9/9 [00:04<00:00,  1.96it/s]\n",
            "                 Class     Images  Instances      Box(P          R      mAP50  mAP50-95): 100%|██████████| 2/2 [00:00<00:00,  3.33it/s]"
          ]
        },
        {
          "output_type": "stream",
          "name": "stdout",
          "text": [
            "                   all         35         94       0.87      0.784      0.861      0.566\n"
          ]
        },
        {
          "output_type": "stream",
          "name": "stderr",
          "text": [
            "\n"
          ]
        },
        {
          "output_type": "stream",
          "name": "stdout",
          "text": [
            "\n",
            "      Epoch    GPU_mem   box_loss   cls_loss   dfl_loss  Instances       Size\n"
          ]
        },
        {
          "output_type": "stream",
          "name": "stderr",
          "text": [
            "     54/100      6.69G      0.927     0.7592      1.168         74        896: 100%|██████████| 9/9 [00:04<00:00,  1.90it/s]\n",
            "                 Class     Images  Instances      Box(P          R      mAP50  mAP50-95): 100%|██████████| 2/2 [00:00<00:00,  2.13it/s]"
          ]
        },
        {
          "output_type": "stream",
          "name": "stdout",
          "text": [
            "                   all         35         94      0.949      0.786      0.896      0.608\n"
          ]
        },
        {
          "output_type": "stream",
          "name": "stderr",
          "text": [
            "\n"
          ]
        },
        {
          "output_type": "stream",
          "name": "stdout",
          "text": [
            "\n",
            "      Epoch    GPU_mem   box_loss   cls_loss   dfl_loss  Instances       Size\n"
          ]
        },
        {
          "output_type": "stream",
          "name": "stderr",
          "text": [
            "     55/100      6.75G     0.9088     0.7128      1.148         61        896: 100%|██████████| 9/9 [00:04<00:00,  1.97it/s]\n",
            "                 Class     Images  Instances      Box(P          R      mAP50  mAP50-95): 100%|██████████| 2/2 [00:00<00:00,  2.55it/s]"
          ]
        },
        {
          "output_type": "stream",
          "name": "stdout",
          "text": [
            "                   all         35         94      0.883      0.806      0.875      0.609\n"
          ]
        },
        {
          "output_type": "stream",
          "name": "stderr",
          "text": [
            "\n"
          ]
        },
        {
          "output_type": "stream",
          "name": "stdout",
          "text": [
            "\n",
            "      Epoch    GPU_mem   box_loss   cls_loss   dfl_loss  Instances       Size\n"
          ]
        },
        {
          "output_type": "stream",
          "name": "stderr",
          "text": [
            "     56/100      6.67G     0.9064     0.6878      1.149         81        896: 100%|██████████| 9/9 [00:04<00:00,  1.88it/s]\n",
            "                 Class     Images  Instances      Box(P          R      mAP50  mAP50-95): 100%|██████████| 2/2 [00:00<00:00,  2.07it/s]"
          ]
        },
        {
          "output_type": "stream",
          "name": "stdout",
          "text": [
            "                   all         35         94      0.855      0.819      0.886      0.606\n"
          ]
        },
        {
          "output_type": "stream",
          "name": "stderr",
          "text": [
            "\n"
          ]
        },
        {
          "output_type": "stream",
          "name": "stdout",
          "text": [
            "\n",
            "      Epoch    GPU_mem   box_loss   cls_loss   dfl_loss  Instances       Size\n"
          ]
        },
        {
          "output_type": "stream",
          "name": "stderr",
          "text": [
            "     57/100      6.94G     0.9374     0.7002       1.15         59        896: 100%|██████████| 9/9 [00:04<00:00,  1.98it/s]\n",
            "                 Class     Images  Instances      Box(P          R      mAP50  mAP50-95): 100%|██████████| 2/2 [00:00<00:00,  3.17it/s]"
          ]
        },
        {
          "output_type": "stream",
          "name": "stdout",
          "text": [
            "                   all         35         94      0.913      0.781      0.867      0.595\n"
          ]
        },
        {
          "output_type": "stream",
          "name": "stderr",
          "text": [
            "\n"
          ]
        },
        {
          "output_type": "stream",
          "name": "stdout",
          "text": [
            "\n",
            "      Epoch    GPU_mem   box_loss   cls_loss   dfl_loss  Instances       Size\n"
          ]
        },
        {
          "output_type": "stream",
          "name": "stderr",
          "text": [
            "     58/100      6.76G     0.8444     0.6563      1.117         63        896: 100%|██████████| 9/9 [00:04<00:00,  1.83it/s]\n",
            "                 Class     Images  Instances      Box(P          R      mAP50  mAP50-95): 100%|██████████| 2/2 [00:01<00:00,  1.36it/s]"
          ]
        },
        {
          "output_type": "stream",
          "name": "stdout",
          "text": [
            "                   all         35         94      0.933      0.744      0.855      0.603\n"
          ]
        },
        {
          "output_type": "stream",
          "name": "stderr",
          "text": [
            "\n"
          ]
        },
        {
          "output_type": "stream",
          "name": "stdout",
          "text": [
            "\n",
            "      Epoch    GPU_mem   box_loss   cls_loss   dfl_loss  Instances       Size\n"
          ]
        },
        {
          "output_type": "stream",
          "name": "stderr",
          "text": [
            "     59/100      6.63G     0.8678     0.6651      1.127         88        896: 100%|██████████| 9/9 [00:04<00:00,  1.99it/s]\n",
            "                 Class     Images  Instances      Box(P          R      mAP50  mAP50-95): 100%|██████████| 2/2 [00:00<00:00,  2.78it/s]"
          ]
        },
        {
          "output_type": "stream",
          "name": "stdout",
          "text": [
            "                   all         35         94      0.877       0.84      0.867      0.608\n"
          ]
        },
        {
          "output_type": "stream",
          "name": "stderr",
          "text": [
            "\n"
          ]
        },
        {
          "output_type": "stream",
          "name": "stdout",
          "text": [
            "\n",
            "      Epoch    GPU_mem   box_loss   cls_loss   dfl_loss  Instances       Size\n"
          ]
        },
        {
          "output_type": "stream",
          "name": "stderr",
          "text": [
            "     60/100      6.63G     0.8549     0.6546      1.134         63        896: 100%|██████████| 9/9 [00:04<00:00,  1.87it/s]\n",
            "                 Class     Images  Instances      Box(P          R      mAP50  mAP50-95): 100%|██████████| 2/2 [00:00<00:00,  2.23it/s]"
          ]
        },
        {
          "output_type": "stream",
          "name": "stdout",
          "text": [
            "                   all         35         94      0.877      0.809      0.864      0.604\n"
          ]
        },
        {
          "output_type": "stream",
          "name": "stderr",
          "text": [
            "\n"
          ]
        },
        {
          "output_type": "stream",
          "name": "stdout",
          "text": [
            "\n",
            "      Epoch    GPU_mem   box_loss   cls_loss   dfl_loss  Instances       Size\n"
          ]
        },
        {
          "output_type": "stream",
          "name": "stderr",
          "text": [
            "     61/100      7.03G     0.8737     0.6467      1.129         74        896: 100%|██████████| 9/9 [00:04<00:00,  1.99it/s]\n",
            "                 Class     Images  Instances      Box(P          R      mAP50  mAP50-95): 100%|██████████| 2/2 [00:00<00:00,  3.54it/s]"
          ]
        },
        {
          "output_type": "stream",
          "name": "stdout",
          "text": [
            "                   all         35         94      0.853      0.799      0.872      0.598\n"
          ]
        },
        {
          "output_type": "stream",
          "name": "stderr",
          "text": [
            "\n"
          ]
        },
        {
          "output_type": "stream",
          "name": "stdout",
          "text": [
            "\n",
            "      Epoch    GPU_mem   box_loss   cls_loss   dfl_loss  Instances       Size\n"
          ]
        },
        {
          "output_type": "stream",
          "name": "stderr",
          "text": [
            "     62/100      6.68G     0.8138     0.6154      1.134         66        896: 100%|██████████| 9/9 [00:04<00:00,  1.93it/s]\n",
            "                 Class     Images  Instances      Box(P          R      mAP50  mAP50-95): 100%|██████████| 2/2 [00:00<00:00,  2.17it/s]\n"
          ]
        },
        {
          "output_type": "stream",
          "name": "stdout",
          "text": [
            "                   all         35         94      0.867      0.851      0.895      0.606\n",
            "\n",
            "      Epoch    GPU_mem   box_loss   cls_loss   dfl_loss  Instances       Size\n"
          ]
        },
        {
          "output_type": "stream",
          "name": "stderr",
          "text": [
            "     63/100      6.71G      0.851     0.6166      1.093         84        896: 100%|██████████| 9/9 [00:04<00:00,  1.99it/s]\n",
            "                 Class     Images  Instances      Box(P          R      mAP50  mAP50-95): 100%|██████████| 2/2 [00:00<00:00,  2.72it/s]"
          ]
        },
        {
          "output_type": "stream",
          "name": "stdout",
          "text": [
            "                   all         35         94      0.914       0.84      0.913       0.61\n"
          ]
        },
        {
          "output_type": "stream",
          "name": "stderr",
          "text": [
            "\n"
          ]
        },
        {
          "output_type": "stream",
          "name": "stdout",
          "text": [
            "\n",
            "      Epoch    GPU_mem   box_loss   cls_loss   dfl_loss  Instances       Size\n"
          ]
        },
        {
          "output_type": "stream",
          "name": "stderr",
          "text": [
            "     64/100       6.6G     0.8423     0.6487      1.106         44        896: 100%|██████████| 9/9 [00:04<00:00,  1.89it/s]\n",
            "                 Class     Images  Instances      Box(P          R      mAP50  mAP50-95): 100%|██████████| 2/2 [00:00<00:00,  2.16it/s]"
          ]
        },
        {
          "output_type": "stream",
          "name": "stdout",
          "text": [
            "                   all         35         94      0.891      0.851      0.908      0.648\n"
          ]
        },
        {
          "output_type": "stream",
          "name": "stderr",
          "text": [
            "\n"
          ]
        },
        {
          "output_type": "stream",
          "name": "stdout",
          "text": [
            "\n",
            "      Epoch    GPU_mem   box_loss   cls_loss   dfl_loss  Instances       Size\n"
          ]
        },
        {
          "output_type": "stream",
          "name": "stderr",
          "text": [
            "     65/100      7.02G     0.7947     0.6209      1.093         85        896: 100%|██████████| 9/9 [00:04<00:00,  1.96it/s]\n",
            "                 Class     Images  Instances      Box(P          R      mAP50  mAP50-95): 100%|██████████| 2/2 [00:00<00:00,  2.97it/s]"
          ]
        },
        {
          "output_type": "stream",
          "name": "stdout",
          "text": [
            "                   all         35         94        0.9      0.798      0.884      0.641\n"
          ]
        },
        {
          "output_type": "stream",
          "name": "stderr",
          "text": [
            "\n"
          ]
        },
        {
          "output_type": "stream",
          "name": "stdout",
          "text": [
            "\n",
            "      Epoch    GPU_mem   box_loss   cls_loss   dfl_loss  Instances       Size\n"
          ]
        },
        {
          "output_type": "stream",
          "name": "stderr",
          "text": [
            "     66/100      6.72G     0.7822     0.5903       1.09         76        896: 100%|██████████| 9/9 [00:04<00:00,  1.96it/s]\n",
            "                 Class     Images  Instances      Box(P          R      mAP50  mAP50-95): 100%|██████████| 2/2 [00:01<00:00,  1.96it/s]"
          ]
        },
        {
          "output_type": "stream",
          "name": "stdout",
          "text": [
            "                   all         35         94      0.857      0.827      0.865      0.623\n"
          ]
        },
        {
          "output_type": "stream",
          "name": "stderr",
          "text": [
            "\n"
          ]
        },
        {
          "output_type": "stream",
          "name": "stdout",
          "text": [
            "\n",
            "      Epoch    GPU_mem   box_loss   cls_loss   dfl_loss  Instances       Size\n"
          ]
        },
        {
          "output_type": "stream",
          "name": "stderr",
          "text": [
            "     67/100      6.62G     0.8058     0.6228      1.105         68        896: 100%|██████████| 9/9 [00:04<00:00,  1.99it/s]\n",
            "                 Class     Images  Instances      Box(P          R      mAP50  mAP50-95): 100%|██████████| 2/2 [00:00<00:00,  3.37it/s]"
          ]
        },
        {
          "output_type": "stream",
          "name": "stdout",
          "text": [
            "                   all         35         94      0.844      0.872      0.886      0.623\n"
          ]
        },
        {
          "output_type": "stream",
          "name": "stderr",
          "text": [
            "\n"
          ]
        },
        {
          "output_type": "stream",
          "name": "stdout",
          "text": [
            "\n",
            "      Epoch    GPU_mem   box_loss   cls_loss   dfl_loss  Instances       Size\n"
          ]
        },
        {
          "output_type": "stream",
          "name": "stderr",
          "text": [
            "     68/100      6.75G     0.7876      0.611      1.114         67        896: 100%|██████████| 9/9 [00:04<00:00,  1.92it/s]\n",
            "                 Class     Images  Instances      Box(P          R      mAP50  mAP50-95): 100%|██████████| 2/2 [00:01<00:00,  1.46it/s]"
          ]
        },
        {
          "output_type": "stream",
          "name": "stdout",
          "text": [
            "                   all         35         94      0.903       0.84      0.901      0.632\n"
          ]
        },
        {
          "output_type": "stream",
          "name": "stderr",
          "text": [
            "\n"
          ]
        },
        {
          "output_type": "stream",
          "name": "stdout",
          "text": [
            "\n",
            "      Epoch    GPU_mem   box_loss   cls_loss   dfl_loss  Instances       Size\n"
          ]
        },
        {
          "output_type": "stream",
          "name": "stderr",
          "text": [
            "     69/100      6.98G     0.8043     0.5978      1.094        105        896: 100%|██████████| 9/9 [00:04<00:00,  1.99it/s]\n",
            "                 Class     Images  Instances      Box(P          R      mAP50  mAP50-95): 100%|██████████| 2/2 [00:00<00:00,  3.31it/s]"
          ]
        },
        {
          "output_type": "stream",
          "name": "stdout",
          "text": [
            "                   all         35         94      0.894       0.84      0.887      0.628\n"
          ]
        },
        {
          "output_type": "stream",
          "name": "stderr",
          "text": [
            "\n"
          ]
        },
        {
          "output_type": "stream",
          "name": "stdout",
          "text": [
            "\n",
            "      Epoch    GPU_mem   box_loss   cls_loss   dfl_loss  Instances       Size\n"
          ]
        },
        {
          "output_type": "stream",
          "name": "stderr",
          "text": [
            "     70/100      6.76G     0.8037     0.6127       1.14         74        896: 100%|██████████| 9/9 [00:04<00:00,  1.93it/s]\n",
            "                 Class     Images  Instances      Box(P          R      mAP50  mAP50-95): 100%|██████████| 2/2 [00:00<00:00,  2.20it/s]"
          ]
        },
        {
          "output_type": "stream",
          "name": "stdout",
          "text": [
            "                   all         35         94      0.874       0.84      0.907       0.64\n"
          ]
        },
        {
          "output_type": "stream",
          "name": "stderr",
          "text": [
            "\n"
          ]
        },
        {
          "output_type": "stream",
          "name": "stdout",
          "text": [
            "\n",
            "      Epoch    GPU_mem   box_loss   cls_loss   dfl_loss  Instances       Size\n"
          ]
        },
        {
          "output_type": "stream",
          "name": "stderr",
          "text": [
            "     71/100      6.71G     0.7412     0.5733       1.08         74        896: 100%|██████████| 9/9 [00:04<00:00,  2.02it/s]\n",
            "                 Class     Images  Instances      Box(P          R      mAP50  mAP50-95): 100%|██████████| 2/2 [00:00<00:00,  3.15it/s]"
          ]
        },
        {
          "output_type": "stream",
          "name": "stdout",
          "text": [
            "                   all         35         94      0.929      0.809      0.902      0.641\n"
          ]
        },
        {
          "output_type": "stream",
          "name": "stderr",
          "text": [
            "\n"
          ]
        },
        {
          "output_type": "stream",
          "name": "stdout",
          "text": [
            "\n",
            "      Epoch    GPU_mem   box_loss   cls_loss   dfl_loss  Instances       Size\n"
          ]
        },
        {
          "output_type": "stream",
          "name": "stderr",
          "text": [
            "     72/100      6.72G     0.7729     0.5867      1.054         63        896: 100%|██████████| 9/9 [00:04<00:00,  1.92it/s]\n",
            "                 Class     Images  Instances      Box(P          R      mAP50  mAP50-95): 100%|██████████| 2/2 [00:00<00:00,  2.43it/s]"
          ]
        },
        {
          "output_type": "stream",
          "name": "stdout",
          "text": [
            "                   all         35         94      0.895       0.84      0.913      0.636\n"
          ]
        },
        {
          "output_type": "stream",
          "name": "stderr",
          "text": [
            "\n"
          ]
        },
        {
          "output_type": "stream",
          "name": "stdout",
          "text": [
            "\n",
            "      Epoch    GPU_mem   box_loss   cls_loss   dfl_loss  Instances       Size\n"
          ]
        },
        {
          "output_type": "stream",
          "name": "stderr",
          "text": [
            "     73/100      6.77G     0.7634     0.6015      1.103         86        896: 100%|██████████| 9/9 [00:04<00:00,  1.94it/s]\n",
            "                 Class     Images  Instances      Box(P          R      mAP50  mAP50-95): 100%|██████████| 2/2 [00:00<00:00,  3.73it/s]"
          ]
        },
        {
          "output_type": "stream",
          "name": "stdout",
          "text": [
            "                   all         35         94      0.923      0.883      0.929      0.646\n"
          ]
        },
        {
          "output_type": "stream",
          "name": "stderr",
          "text": [
            "\n"
          ]
        },
        {
          "output_type": "stream",
          "name": "stdout",
          "text": [
            "\n",
            "      Epoch    GPU_mem   box_loss   cls_loss   dfl_loss  Instances       Size\n"
          ]
        },
        {
          "output_type": "stream",
          "name": "stderr",
          "text": [
            "     74/100      6.72G     0.7543     0.6042      1.088         79        896: 100%|██████████| 9/9 [00:04<00:00,  1.97it/s]\n",
            "                 Class     Images  Instances      Box(P          R      mAP50  mAP50-95): 100%|██████████| 2/2 [00:00<00:00,  2.27it/s]"
          ]
        },
        {
          "output_type": "stream",
          "name": "stdout",
          "text": [
            "                   all         35         94      0.863      0.894      0.919      0.649\n"
          ]
        },
        {
          "output_type": "stream",
          "name": "stderr",
          "text": [
            "\n"
          ]
        },
        {
          "output_type": "stream",
          "name": "stdout",
          "text": [
            "\n",
            "      Epoch    GPU_mem   box_loss   cls_loss   dfl_loss  Instances       Size\n"
          ]
        },
        {
          "output_type": "stream",
          "name": "stderr",
          "text": [
            "     75/100      6.68G     0.7447     0.5666      1.091         48        896: 100%|██████████| 9/9 [00:04<00:00,  1.96it/s]\n",
            "                 Class     Images  Instances      Box(P          R      mAP50  mAP50-95): 100%|██████████| 2/2 [00:00<00:00,  3.41it/s]"
          ]
        },
        {
          "output_type": "stream",
          "name": "stdout",
          "text": [
            "                   all         35         94      0.873       0.83      0.894      0.653\n"
          ]
        },
        {
          "output_type": "stream",
          "name": "stderr",
          "text": [
            "\n"
          ]
        },
        {
          "output_type": "stream",
          "name": "stdout",
          "text": [
            "\n",
            "      Epoch    GPU_mem   box_loss   cls_loss   dfl_loss  Instances       Size\n"
          ]
        },
        {
          "output_type": "stream",
          "name": "stderr",
          "text": [
            "     76/100      6.71G     0.7253     0.5546      1.058         46        896: 100%|██████████| 9/9 [00:04<00:00,  1.87it/s]\n",
            "                 Class     Images  Instances      Box(P          R      mAP50  mAP50-95): 100%|██████████| 2/2 [00:01<00:00,  1.96it/s]"
          ]
        },
        {
          "output_type": "stream",
          "name": "stdout",
          "text": [
            "                   all         35         94      0.872      0.796      0.885      0.665\n"
          ]
        },
        {
          "output_type": "stream",
          "name": "stderr",
          "text": [
            "\n"
          ]
        },
        {
          "output_type": "stream",
          "name": "stdout",
          "text": [
            "\n",
            "      Epoch    GPU_mem   box_loss   cls_loss   dfl_loss  Instances       Size\n"
          ]
        },
        {
          "output_type": "stream",
          "name": "stderr",
          "text": [
            "     77/100       6.6G     0.7093     0.5275      1.044         83        896: 100%|██████████| 9/9 [00:04<00:00,  1.99it/s]\n",
            "                 Class     Images  Instances      Box(P          R      mAP50  mAP50-95): 100%|██████████| 2/2 [00:00<00:00,  3.60it/s]"
          ]
        },
        {
          "output_type": "stream",
          "name": "stdout",
          "text": [
            "                   all         35         94      0.896      0.828      0.904      0.672\n"
          ]
        },
        {
          "output_type": "stream",
          "name": "stderr",
          "text": [
            "\n"
          ]
        },
        {
          "output_type": "stream",
          "name": "stdout",
          "text": [
            "\n",
            "      Epoch    GPU_mem   box_loss   cls_loss   dfl_loss  Instances       Size\n"
          ]
        },
        {
          "output_type": "stream",
          "name": "stderr",
          "text": [
            "     78/100      6.75G     0.7128     0.5108      1.053         63        896: 100%|██████████| 9/9 [00:04<00:00,  1.97it/s]\n",
            "                 Class     Images  Instances      Box(P          R      mAP50  mAP50-95): 100%|██████████| 2/2 [00:00<00:00,  2.08it/s]"
          ]
        },
        {
          "output_type": "stream",
          "name": "stdout",
          "text": [
            "                   all         35         94      0.901       0.84      0.913      0.656\n"
          ]
        },
        {
          "output_type": "stream",
          "name": "stderr",
          "text": [
            "\n"
          ]
        },
        {
          "output_type": "stream",
          "name": "stdout",
          "text": [
            "\n",
            "      Epoch    GPU_mem   box_loss   cls_loss   dfl_loss  Instances       Size\n"
          ]
        },
        {
          "output_type": "stream",
          "name": "stderr",
          "text": [
            "     79/100      6.76G     0.7478     0.5672      1.061         74        896: 100%|██████████| 9/9 [00:04<00:00,  1.96it/s]\n",
            "                 Class     Images  Instances      Box(P          R      mAP50  mAP50-95): 100%|██████████| 2/2 [00:00<00:00,  3.11it/s]"
          ]
        },
        {
          "output_type": "stream",
          "name": "stdout",
          "text": [
            "                   all         35         94      0.819      0.894      0.913      0.671\n"
          ]
        },
        {
          "output_type": "stream",
          "name": "stderr",
          "text": [
            "\n"
          ]
        },
        {
          "output_type": "stream",
          "name": "stdout",
          "text": [
            "\n",
            "      Epoch    GPU_mem   box_loss   cls_loss   dfl_loss  Instances       Size\n"
          ]
        },
        {
          "output_type": "stream",
          "name": "stderr",
          "text": [
            "     80/100      6.79G     0.7057     0.5303      1.039         69        896: 100%|██████████| 9/9 [00:04<00:00,  1.91it/s]\n",
            "                 Class     Images  Instances      Box(P          R      mAP50  mAP50-95): 100%|██████████| 2/2 [00:00<00:00,  2.34it/s]"
          ]
        },
        {
          "output_type": "stream",
          "name": "stdout",
          "text": [
            "                   all         35         94      0.839      0.943      0.924      0.679\n"
          ]
        },
        {
          "output_type": "stream",
          "name": "stderr",
          "text": [
            "\n"
          ]
        },
        {
          "output_type": "stream",
          "name": "stdout",
          "text": [
            "\n",
            "      Epoch    GPU_mem   box_loss   cls_loss   dfl_loss  Instances       Size\n"
          ]
        },
        {
          "output_type": "stream",
          "name": "stderr",
          "text": [
            "     81/100      6.69G     0.6907     0.5332      1.062         62        896: 100%|██████████| 9/9 [00:04<00:00,  2.00it/s]\n",
            "                 Class     Images  Instances      Box(P          R      mAP50  mAP50-95): 100%|██████████| 2/2 [00:00<00:00,  3.08it/s]"
          ]
        },
        {
          "output_type": "stream",
          "name": "stdout",
          "text": [
            "                   all         35         94      0.886      0.894      0.926      0.664\n"
          ]
        },
        {
          "output_type": "stream",
          "name": "stderr",
          "text": [
            "\n"
          ]
        },
        {
          "output_type": "stream",
          "name": "stdout",
          "text": [
            "\n",
            "      Epoch    GPU_mem   box_loss   cls_loss   dfl_loss  Instances       Size\n"
          ]
        },
        {
          "output_type": "stream",
          "name": "stderr",
          "text": [
            "     82/100      6.61G     0.6757     0.5211      1.039         42        896: 100%|██████████| 9/9 [00:04<00:00,  1.96it/s]\n",
            "                 Class     Images  Instances      Box(P          R      mAP50  mAP50-95): 100%|██████████| 2/2 [00:00<00:00,  2.13it/s]"
          ]
        },
        {
          "output_type": "stream",
          "name": "stdout",
          "text": [
            "                   all         35         94      0.897      0.883      0.927      0.658\n"
          ]
        },
        {
          "output_type": "stream",
          "name": "stderr",
          "text": [
            "\n"
          ]
        },
        {
          "output_type": "stream",
          "name": "stdout",
          "text": [
            "\n",
            "      Epoch    GPU_mem   box_loss   cls_loss   dfl_loss  Instances       Size\n"
          ]
        },
        {
          "output_type": "stream",
          "name": "stderr",
          "text": [
            "     83/100      6.71G     0.6844     0.5017      1.043         68        896: 100%|██████████| 9/9 [00:04<00:00,  1.92it/s]\n",
            "                 Class     Images  Instances      Box(P          R      mAP50  mAP50-95): 100%|██████████| 2/2 [00:00<00:00,  3.34it/s]"
          ]
        },
        {
          "output_type": "stream",
          "name": "stdout",
          "text": [
            "                   all         35         94      0.904      0.901      0.931      0.676\n"
          ]
        },
        {
          "output_type": "stream",
          "name": "stderr",
          "text": [
            "\n"
          ]
        },
        {
          "output_type": "stream",
          "name": "stdout",
          "text": [
            "\n",
            "      Epoch    GPU_mem   box_loss   cls_loss   dfl_loss  Instances       Size\n"
          ]
        },
        {
          "output_type": "stream",
          "name": "stderr",
          "text": [
            "     84/100      6.78G     0.6912     0.5088      1.026         78        896: 100%|██████████| 9/9 [00:04<00:00,  1.95it/s]\n",
            "                 Class     Images  Instances      Box(P          R      mAP50  mAP50-95): 100%|██████████| 2/2 [00:00<00:00,  2.12it/s]"
          ]
        },
        {
          "output_type": "stream",
          "name": "stdout",
          "text": [
            "                   all         35         94      0.899      0.915      0.927      0.685\n"
          ]
        },
        {
          "output_type": "stream",
          "name": "stderr",
          "text": [
            "\n"
          ]
        },
        {
          "output_type": "stream",
          "name": "stdout",
          "text": [
            "\n",
            "      Epoch    GPU_mem   box_loss   cls_loss   dfl_loss  Instances       Size\n"
          ]
        },
        {
          "output_type": "stream",
          "name": "stderr",
          "text": [
            "     85/100      6.73G      0.676     0.4846      1.002        106        896: 100%|██████████| 9/9 [00:04<00:00,  1.98it/s]\n",
            "                 Class     Images  Instances      Box(P          R      mAP50  mAP50-95): 100%|██████████| 2/2 [00:00<00:00,  3.45it/s]"
          ]
        },
        {
          "output_type": "stream",
          "name": "stdout",
          "text": [
            "                   all         35         94      0.897      0.872      0.923      0.684\n"
          ]
        },
        {
          "output_type": "stream",
          "name": "stderr",
          "text": [
            "\n"
          ]
        },
        {
          "output_type": "stream",
          "name": "stdout",
          "text": [
            "\n",
            "      Epoch    GPU_mem   box_loss   cls_loss   dfl_loss  Instances       Size\n"
          ]
        },
        {
          "output_type": "stream",
          "name": "stderr",
          "text": [
            "     86/100      6.71G     0.6571     0.4827      1.035         69        896: 100%|██████████| 9/9 [00:04<00:00,  1.96it/s]\n",
            "                 Class     Images  Instances      Box(P          R      mAP50  mAP50-95): 100%|██████████| 2/2 [00:00<00:00,  2.07it/s]"
          ]
        },
        {
          "output_type": "stream",
          "name": "stdout",
          "text": [
            "                   all         35         94      0.861      0.923      0.926      0.677\n"
          ]
        },
        {
          "output_type": "stream",
          "name": "stderr",
          "text": [
            "\n"
          ]
        },
        {
          "output_type": "stream",
          "name": "stdout",
          "text": [
            "\n",
            "      Epoch    GPU_mem   box_loss   cls_loss   dfl_loss  Instances       Size\n"
          ]
        },
        {
          "output_type": "stream",
          "name": "stderr",
          "text": [
            "     87/100      6.75G     0.6469     0.4762      1.008         60        896: 100%|██████████| 9/9 [00:04<00:00,  1.93it/s]\n",
            "                 Class     Images  Instances      Box(P          R      mAP50  mAP50-95): 100%|██████████| 2/2 [00:00<00:00,  3.47it/s]"
          ]
        },
        {
          "output_type": "stream",
          "name": "stdout",
          "text": [
            "                   all         35         94      0.904      0.899      0.935       0.68\n"
          ]
        },
        {
          "output_type": "stream",
          "name": "stderr",
          "text": [
            "\n"
          ]
        },
        {
          "output_type": "stream",
          "name": "stdout",
          "text": [
            "\n",
            "      Epoch    GPU_mem   box_loss   cls_loss   dfl_loss  Instances       Size\n"
          ]
        },
        {
          "output_type": "stream",
          "name": "stderr",
          "text": [
            "     88/100      6.75G      0.659     0.4975      1.006         56        896: 100%|██████████| 9/9 [00:04<00:00,  1.94it/s]\n",
            "                 Class     Images  Instances      Box(P          R      mAP50  mAP50-95): 100%|██████████| 2/2 [00:00<00:00,  2.42it/s]"
          ]
        },
        {
          "output_type": "stream",
          "name": "stdout",
          "text": [
            "                   all         35         94      0.876      0.915      0.927       0.68\n"
          ]
        },
        {
          "output_type": "stream",
          "name": "stderr",
          "text": [
            "\n"
          ]
        },
        {
          "output_type": "stream",
          "name": "stdout",
          "text": [
            "\n",
            "      Epoch    GPU_mem   box_loss   cls_loss   dfl_loss  Instances       Size\n"
          ]
        },
        {
          "output_type": "stream",
          "name": "stderr",
          "text": [
            "     89/100      6.75G     0.6635     0.4824      1.014        102        896: 100%|██████████| 9/9 [00:04<00:00,  2.00it/s]\n",
            "                 Class     Images  Instances      Box(P          R      mAP50  mAP50-95): 100%|██████████| 2/2 [00:00<00:00,  2.72it/s]"
          ]
        },
        {
          "output_type": "stream",
          "name": "stdout",
          "text": [
            "                   all         35         94      0.892      0.883      0.925      0.681\n"
          ]
        },
        {
          "output_type": "stream",
          "name": "stderr",
          "text": [
            "\n"
          ]
        },
        {
          "output_type": "stream",
          "name": "stdout",
          "text": [
            "\n",
            "      Epoch    GPU_mem   box_loss   cls_loss   dfl_loss  Instances       Size\n"
          ]
        },
        {
          "output_type": "stream",
          "name": "stderr",
          "text": [
            "     90/100      6.75G     0.6509     0.4837      1.031         46        896: 100%|██████████| 9/9 [00:04<00:00,  1.97it/s]\n",
            "                 Class     Images  Instances      Box(P          R      mAP50  mAP50-95): 100%|██████████| 2/2 [00:00<00:00,  2.24it/s]"
          ]
        },
        {
          "output_type": "stream",
          "name": "stdout",
          "text": [
            "                   all         35         94       0.89      0.915       0.93      0.687\n"
          ]
        },
        {
          "output_type": "stream",
          "name": "stderr",
          "text": [
            "\n"
          ]
        },
        {
          "output_type": "stream",
          "name": "stdout",
          "text": [
            "Closing dataloader mosaic\n",
            "\u001b[34m\u001b[1malbumentations: \u001b[0mBlur(p=0.01, blur_limit=(3, 7)), MedianBlur(p=0.01, blur_limit=(3, 7)), ToGray(p=0.01, method='weighted_average', num_output_channels=3), CLAHE(p=0.01, clip_limit=(1.0, 4.0), tile_grid_size=(8, 8))\n",
            "\n",
            "      Epoch    GPU_mem   box_loss   cls_loss   dfl_loss  Instances       Size\n"
          ]
        },
        {
          "output_type": "stream",
          "name": "stderr",
          "text": [
            "     91/100      6.71G     0.6558      0.486      1.024         38        896: 100%|██████████| 9/9 [00:06<00:00,  1.41it/s]\n",
            "                 Class     Images  Instances      Box(P          R      mAP50  mAP50-95): 100%|██████████| 2/2 [00:00<00:00,  2.80it/s]"
          ]
        },
        {
          "output_type": "stream",
          "name": "stdout",
          "text": [
            "                   all         35         94      0.917      0.894      0.934      0.694\n"
          ]
        },
        {
          "output_type": "stream",
          "name": "stderr",
          "text": [
            "\n"
          ]
        },
        {
          "output_type": "stream",
          "name": "stdout",
          "text": [
            "\n",
            "      Epoch    GPU_mem   box_loss   cls_loss   dfl_loss  Instances       Size\n"
          ]
        },
        {
          "output_type": "stream",
          "name": "stderr",
          "text": [
            "     92/100      6.67G     0.5958     0.4419      0.995         70        896: 100%|██████████| 9/9 [00:04<00:00,  1.87it/s]\n",
            "                 Class     Images  Instances      Box(P          R      mAP50  mAP50-95): 100%|██████████| 2/2 [00:00<00:00,  2.86it/s]"
          ]
        },
        {
          "output_type": "stream",
          "name": "stdout",
          "text": [
            "                   all         35         94      0.901      0.904      0.938      0.705\n"
          ]
        },
        {
          "output_type": "stream",
          "name": "stderr",
          "text": [
            "\n"
          ]
        },
        {
          "output_type": "stream",
          "name": "stdout",
          "text": [
            "\n",
            "      Epoch    GPU_mem   box_loss   cls_loss   dfl_loss  Instances       Size\n"
          ]
        },
        {
          "output_type": "stream",
          "name": "stderr",
          "text": [
            "     93/100      7.03G     0.5859     0.4085     0.9717         38        896: 100%|██████████| 9/9 [00:04<00:00,  1.98it/s]\n",
            "                 Class     Images  Instances      Box(P          R      mAP50  mAP50-95): 100%|██████████| 2/2 [00:00<00:00,  3.42it/s]"
          ]
        },
        {
          "output_type": "stream",
          "name": "stdout",
          "text": [
            "                   all         35         94      0.893       0.89      0.936      0.703\n"
          ]
        },
        {
          "output_type": "stream",
          "name": "stderr",
          "text": [
            "\n"
          ]
        },
        {
          "output_type": "stream",
          "name": "stdout",
          "text": [
            "\n",
            "      Epoch    GPU_mem   box_loss   cls_loss   dfl_loss  Instances       Size\n"
          ]
        },
        {
          "output_type": "stream",
          "name": "stderr",
          "text": [
            "     94/100      6.67G     0.5929     0.4361     0.9924         41        896: 100%|██████████| 9/9 [00:04<00:00,  1.93it/s]\n",
            "                 Class     Images  Instances      Box(P          R      mAP50  mAP50-95): 100%|██████████| 2/2 [00:00<00:00,  2.43it/s]"
          ]
        },
        {
          "output_type": "stream",
          "name": "stdout",
          "text": [
            "                   all         35         94      0.941      0.847      0.932      0.698\n"
          ]
        },
        {
          "output_type": "stream",
          "name": "stderr",
          "text": [
            "\n"
          ]
        },
        {
          "output_type": "stream",
          "name": "stdout",
          "text": [
            "\n",
            "      Epoch    GPU_mem   box_loss   cls_loss   dfl_loss  Instances       Size\n"
          ]
        },
        {
          "output_type": "stream",
          "name": "stderr",
          "text": [
            "     95/100      6.67G     0.5803     0.4215     0.9728         40        896: 100%|██████████| 9/9 [00:04<00:00,  2.00it/s]\n",
            "                 Class     Images  Instances      Box(P          R      mAP50  mAP50-95): 100%|██████████| 2/2 [00:00<00:00,  3.57it/s]"
          ]
        },
        {
          "output_type": "stream",
          "name": "stdout",
          "text": [
            "                   all         35         94      0.893      0.889      0.933      0.686\n"
          ]
        },
        {
          "output_type": "stream",
          "name": "stderr",
          "text": [
            "\n"
          ]
        },
        {
          "output_type": "stream",
          "name": "stdout",
          "text": [
            "\n",
            "      Epoch    GPU_mem   box_loss   cls_loss   dfl_loss  Instances       Size\n"
          ]
        },
        {
          "output_type": "stream",
          "name": "stderr",
          "text": [
            "     96/100      6.67G     0.5789     0.4102     0.9966         71        896: 100%|██████████| 9/9 [00:04<00:00,  1.95it/s]\n",
            "                 Class     Images  Instances      Box(P          R      mAP50  mAP50-95): 100%|██████████| 2/2 [00:00<00:00,  2.24it/s]"
          ]
        },
        {
          "output_type": "stream",
          "name": "stdout",
          "text": [
            "                   all         35         94      0.905      0.915      0.936       0.69\n"
          ]
        },
        {
          "output_type": "stream",
          "name": "stderr",
          "text": [
            "\n"
          ]
        },
        {
          "output_type": "stream",
          "name": "stdout",
          "text": [
            "\n",
            "      Epoch    GPU_mem   box_loss   cls_loss   dfl_loss  Instances       Size\n"
          ]
        },
        {
          "output_type": "stream",
          "name": "stderr",
          "text": [
            "     97/100      6.65G      0.555     0.3923     0.9605         28        896: 100%|██████████| 9/9 [00:04<00:00,  2.00it/s]\n",
            "                 Class     Images  Instances      Box(P          R      mAP50  mAP50-95): 100%|██████████| 2/2 [00:00<00:00,  3.82it/s]"
          ]
        },
        {
          "output_type": "stream",
          "name": "stdout",
          "text": [
            "                   all         35         94      0.917      0.915      0.939      0.691\n"
          ]
        },
        {
          "output_type": "stream",
          "name": "stderr",
          "text": [
            "\n"
          ]
        },
        {
          "output_type": "stream",
          "name": "stdout",
          "text": [
            "\n",
            "      Epoch    GPU_mem   box_loss   cls_loss   dfl_loss  Instances       Size\n"
          ]
        },
        {
          "output_type": "stream",
          "name": "stderr",
          "text": [
            "     98/100      6.66G     0.5797     0.3935     0.9886         55        896: 100%|██████████| 9/9 [00:04<00:00,  1.98it/s]\n",
            "                 Class     Images  Instances      Box(P          R      mAP50  mAP50-95): 100%|██████████| 2/2 [00:00<00:00,  2.34it/s]"
          ]
        },
        {
          "output_type": "stream",
          "name": "stdout",
          "text": [
            "                   all         35         94      0.916      0.927      0.939      0.698\n"
          ]
        },
        {
          "output_type": "stream",
          "name": "stderr",
          "text": [
            "\n"
          ]
        },
        {
          "output_type": "stream",
          "name": "stdout",
          "text": [
            "\n",
            "      Epoch    GPU_mem   box_loss   cls_loss   dfl_loss  Instances       Size\n"
          ]
        },
        {
          "output_type": "stream",
          "name": "stderr",
          "text": [
            "     99/100      6.67G     0.5343     0.3832     0.9358         38        896: 100%|██████████| 9/9 [00:04<00:00,  2.02it/s]\n",
            "                 Class     Images  Instances      Box(P          R      mAP50  mAP50-95): 100%|██████████| 2/2 [00:00<00:00,  3.52it/s]"
          ]
        },
        {
          "output_type": "stream",
          "name": "stdout",
          "text": [
            "                   all         35         94      0.915      0.926      0.939      0.702\n"
          ]
        },
        {
          "output_type": "stream",
          "name": "stderr",
          "text": [
            "\n"
          ]
        },
        {
          "output_type": "stream",
          "name": "stdout",
          "text": [
            "\n",
            "      Epoch    GPU_mem   box_loss   cls_loss   dfl_loss  Instances       Size\n"
          ]
        },
        {
          "output_type": "stream",
          "name": "stderr",
          "text": [
            "    100/100      6.66G     0.5273     0.3825     0.9689         66        896: 100%|██████████| 9/9 [00:04<00:00,  1.96it/s]\n",
            "                 Class     Images  Instances      Box(P          R      mAP50  mAP50-95): 100%|██████████| 2/2 [00:00<00:00,  2.77it/s]"
          ]
        },
        {
          "output_type": "stream",
          "name": "stdout",
          "text": [
            "                   all         35         94      0.925      0.914       0.94       0.71\n"
          ]
        },
        {
          "output_type": "stream",
          "name": "stderr",
          "text": [
            "\n"
          ]
        },
        {
          "output_type": "stream",
          "name": "stdout",
          "text": [
            "\n",
            "100 epochs completed in 0.181 hours.\n",
            "Optimizer stripped from runs/detect/pothole_y8s/weights/last.pt, 22.6MB\n",
            "Optimizer stripped from runs/detect/pothole_y8s/weights/best.pt, 22.6MB\n",
            "\n",
            "Validating runs/detect/pothole_y8s/weights/best.pt...\n",
            "Ultralytics 8.3.184 🚀 Python-3.12.11 torch-2.8.0+cu126 CUDA:0 (Tesla T4, 15095MiB)\n",
            "Model summary (fused): 72 layers, 11,125,971 parameters, 0 gradients, 28.4 GFLOPs\n"
          ]
        },
        {
          "output_type": "stream",
          "name": "stderr",
          "text": [
            "                 Class     Images  Instances      Box(P          R      mAP50  mAP50-95): 100%|██████████| 2/2 [00:00<00:00,  3.45it/s]\n"
          ]
        },
        {
          "output_type": "stream",
          "name": "stdout",
          "text": [
            "                   all         35         94      0.922      0.915      0.939       0.71\n",
            "Speed: 0.7ms preprocess, 8.8ms inference, 0.0ms loss, 1.8ms postprocess per image\n",
            "Results saved to \u001b[1mruns/detect/pothole_y8s\u001b[0m\n",
            "Training finished. Best weights:\n",
            "total 44096\n",
            "-rw-r--r-- 1 root root 22574506 Aug 24 06:31 best.pt\n",
            "-rw-r--r-- 1 root root 22574506 Aug 24 06:31 last.pt\n"
          ]
        }
      ]
    }
  ]
}